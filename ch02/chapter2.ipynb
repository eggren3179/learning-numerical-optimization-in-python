{
 "cells": [
  {
   "cell_type": "markdown",
   "id": "8658de51-cdea-4972-9b45-8ac4f7d4a102",
   "metadata": {},
   "source": [
    "# 2章 Python数理最適化チュートリアル"
   ]
  },
  {
   "cell_type": "markdown",
   "id": "df0d6c6c-1371-4665-98b9-447ab4e335d1",
   "metadata": {},
   "source": [
    "### 2.1 連立一次方程式をPythonの数理最適化ライブラリで解く"
   ]
  },
  {
   "cell_type": "code",
   "execution_count": 1,
   "id": "6efdf1e9-0a08-489e-b48c-0389179dcff1",
   "metadata": {
    "tags": []
   },
   "outputs": [
    {
     "name": "stdout",
     "output_type": "stream",
     "text": [
      "Welcome to the CBC MILP Solver \n",
      "Version: 2.9.0 \n",
      "Build Date: Feb 12 2015 \n",
      "\n",
      "command line - /home/ren-ito/anaconda3/envs/numerical-optimizaion-env/lib/python3.8/site-packages/pulp/apis/../solverdir/cbc/linux/64/cbc /tmp/99bddab5212b46eb8ccf5d71979adb29-pulp.mps max branch printingOptions all solution /tmp/99bddab5212b46eb8ccf5d71979adb29-pulp.sol (default strategy 1)\n",
      "At line 2 NAME          MODEL\n",
      "At line 3 ROWS\n",
      "At line 7 COLUMNS\n",
      "At line 13 RHS\n",
      "At line 16 BOUNDS\n",
      "At line 20 ENDATA\n",
      "Problem MODEL has 2 rows, 3 columns and 4 elements\n",
      "Coin0008I MODEL read with 0 errors\n",
      "Presolve 0 (-2) rows, 0 (-3) columns and 0 (-4) elements\n",
      "Empty problem - 0 rows, 0 columns and 0 elements\n",
      "Optimal - objective value -0\n",
      "After Postsolve, objective 0, infeasibilities - dual 0 (0), primal 0 (0)\n",
      "Optimal objective 0 - 0 iterations time 0.002, Presolve 0.00\n",
      "Option for printingOptions changed from normal to all\n",
      "Total time (CPU seconds):       0.00   (Wallclock seconds):       0.00\n",
      "\n",
      "Status:Optimal\n",
      "x = 2.0, y = 8.0\n"
     ]
    }
   ],
   "source": [
    "\"\"\"\n",
    "120x + 150y = 1440\n",
    "x + y = 10\n",
    "の単純な線形1次連立方程式を解くプログラム\n",
    "\"\"\"\n",
    "\n",
    "import pulp\n",
    "\n",
    "problem = pulp.LpProblem('SLE', pulp.LpMaximize)\n",
    "\n",
    "x = pulp.LpVariable('x', cat='Continuous')\n",
    "y = pulp.LpVariable('y', cat='Continuous')\n",
    "\n",
    "problem += 120 * x + 150 * y == 1440\n",
    "problem += x + y == 10\n",
    "\n",
    "status = problem.solve()\n",
    "\n",
    "print(f\"Status:{pulp.LpStatus[status]}\")\n",
    "print(f\"x = {x.value()}, y = {y.value()}\")"
   ]
  },
  {
   "cell_type": "markdown",
   "id": "3f4ec025-80bc-4bd9-b5e8-34d4ce688444",
   "metadata": {},
   "source": [
    "### 2.2 線形計画問題をPythonの数理最適化ライブラリで解く"
   ]
  },
  {
   "cell_type": "markdown",
   "id": "d933b7bf-a19e-408c-886d-c833156c9aad",
   "metadata": {},
   "source": [
    "解くべき最適化問題\n",
    "   - max $n_p + 2n_q$\n",
    "   - s.t.\n",
    "      - $n_p, n_q >= 0$\n",
    "      - $n_p+3n_q <= 30$\n",
    "      - $2n_p+n_q <= 40$"
   ]
  },
  {
   "cell_type": "code",
   "execution_count": 8,
   "id": "139aa5c9-ea5e-41c8-8aed-ea93c1e050e9",
   "metadata": {
    "tags": []
   },
   "outputs": [
    {
     "name": "stdout",
     "output_type": "stream",
     "text": [
      "Welcome to the CBC MILP Solver \n",
      "Version: 2.9.0 \n",
      "Build Date: Feb 12 2015 \n",
      "\n",
      "command line - /home/ren-ito/anaconda3/envs/numerical-optimizaion-env/lib/python3.8/site-packages/pulp/apis/../solverdir/cbc/linux/64/cbc /tmp/36b18c48c70c4825a972990bd5201ed6-pulp.mps max branch printingOptions all solution /tmp/36b18c48c70c4825a972990bd5201ed6-pulp.sol (default strategy 1)\n",
      "At line 2 NAME          MODEL\n",
      "At line 3 ROWS\n",
      "At line 9 COLUMNS\n",
      "At line 18 RHS\n",
      "At line 23 BOUNDS\n",
      "At line 26 ENDATA\n",
      "Problem MODEL has 4 rows, 2 columns and 6 elements\n",
      "Coin0008I MODEL read with 0 errors\n",
      "Presolve 2 (-2) rows, 2 (0) columns and 4 (-2) elements\n",
      "0  Obj -0 Dual inf 2.999998 (2)\n",
      "2  Obj 26\n",
      "Optimal - objective value 26\n",
      "After Postsolve, objective 26, infeasibilities - dual 0 (0), primal 0 (0)\n",
      "Optimal objective 26 - 2 iterations time 0.002, Presolve 0.00\n",
      "Option for printingOptions changed from normal to all\n",
      "Total time (CPU seconds):       0.00   (Wallclock seconds):       0.00\n",
      "\n",
      "status:Optimal\n",
      "n_p = 18.0, n_q = 4.0, objective = 26.0\n"
     ]
    }
   ],
   "source": [
    "\"\"\"\n",
    "次のような線形計画問題を解くプログラム\n",
    "   - max $n_p + 2n_q$\n",
    "   - s.t.\n",
    "      - $n_p, n_q >= 0$\n",
    "      - $n_p+3n_q <= 30$\n",
    "      - $2n_p+n_q <= 40$\n",
    "\"\"\"\n",
    "\n",
    "import pulp\n",
    "\n",
    "problem = pulp.LpProblem(\"LP\", pulp.LpMaximize)\n",
    "\n",
    "np = pulp.LpVariable(\"n_p\", cat=\"Continuous\")\n",
    "nq = pulp.LpVariable(\"n_q\", cat=\"Continuous\")\n",
    "\n",
    "#制約条件の追加\n",
    "problem += 1*np + 3*nq <= 30\n",
    "problem += 2*np + 1*nq <= 40\n",
    "problem += np >= 0\n",
    "problem += nq >= 0\n",
    "\n",
    "#目的関数\n",
    "problem += np + 2*nq\n",
    "#これらの書き方でも良い\n",
    "# problem.setObjective(np + 2*nq)\n",
    "# problem.objective = np + 2*nq\n",
    "\n",
    "status = problem.solve()\n",
    "\n",
    "print(f\"status:{pulp.LpStatus[status]}\")\n",
    "print(f\"n_p = {np.value()}, n_q = {nq.value()}, objective = {problem.objective.value()}\")"
   ]
  },
  {
   "cell_type": "markdown",
   "id": "d315b5fd-6458-41bd-ab5d-1f4dd6c8dabe",
   "metadata": {
    "tags": []
   },
   "source": [
    "#### 最適化問題の種類\n",
    "この辺は詳細な書籍を読んだ方が正確な知識は得られそう。\n",
    "  - 線形計画問題：変数が実数値をとる問題\n",
    "  - 整数計画問題：変数が整数値のみを取る問題\n",
    "  - 混合整数計画問題：変数が整数値を取るものと実数値を取るものがある問題\n",
    "  - 0-1整数計画問題：変数が0か1で表せる問題\n",
    "  - 凸二次計画問題：目的関数に凸な二次関数（係数行列が半正値対称行列）が現れる問題"
   ]
  },
  {
   "cell_type": "markdown",
   "id": "13194013-9e9f-4cfd-b4d7-52c18a9a7837",
   "metadata": {},
   "source": [
    "### 2.3 規模の大きな数理最適化問題をPythonライブラリを使って解く"
   ]
  },
  {
   "cell_type": "code",
   "execution_count": 9,
   "id": "65f92eba-05d0-4023-893c-cce299d25c48",
   "metadata": {
    "tags": []
   },
   "outputs": [],
   "source": [
    "import pandas as pd\n",
    "import pulp"
   ]
  },
  {
   "cell_type": "markdown",
   "id": "f1fdacaa-4060-403f-ad1b-fd3320ff2221",
   "metadata": {},
   "source": [
    "##### 在庫データの確認"
   ]
  },
  {
   "cell_type": "code",
   "execution_count": 10,
   "id": "34c8fc85-6cfb-4fce-b45b-7287913049d8",
   "metadata": {
    "tags": []
   },
   "outputs": [
    {
     "data": {
      "text/html": [
       "<div>\n",
       "<style scoped>\n",
       "    .dataframe tbody tr th:only-of-type {\n",
       "        vertical-align: middle;\n",
       "    }\n",
       "\n",
       "    .dataframe tbody tr th {\n",
       "        vertical-align: top;\n",
       "    }\n",
       "\n",
       "    .dataframe thead th {\n",
       "        text-align: right;\n",
       "    }\n",
       "</style>\n",
       "<table border=\"1\" class=\"dataframe\">\n",
       "  <thead>\n",
       "    <tr style=\"text-align: right;\">\n",
       "      <th></th>\n",
       "      <th>m</th>\n",
       "      <th>stock</th>\n",
       "    </tr>\n",
       "  </thead>\n",
       "  <tbody>\n",
       "    <tr>\n",
       "      <th>0</th>\n",
       "      <td>m1</td>\n",
       "      <td>35</td>\n",
       "    </tr>\n",
       "    <tr>\n",
       "      <th>1</th>\n",
       "      <td>m2</td>\n",
       "      <td>22</td>\n",
       "    </tr>\n",
       "    <tr>\n",
       "      <th>2</th>\n",
       "      <td>m3</td>\n",
       "      <td>27</td>\n",
       "    </tr>\n",
       "  </tbody>\n",
       "</table>\n",
       "</div>"
      ],
      "text/plain": [
       "    m  stock\n",
       "0  m1     35\n",
       "1  m2     22\n",
       "2  m3     27"
      ]
     },
     "execution_count": 10,
     "metadata": {},
     "output_type": "execute_result"
    }
   ],
   "source": [
    "stock_df = pd.read_csv(\"./data/stocks.csv\")\n",
    "stock_df"
   ]
  },
  {
   "cell_type": "markdown",
   "id": "74d59605-2ebb-4e45-9c55-555f5c18a533",
   "metadata": {},
   "source": [
    "##### 製品の生産に必要な原料の量データの確認"
   ]
  },
  {
   "cell_type": "code",
   "execution_count": 12,
   "id": "ecae7d6e-e2a7-4a17-ac18-d3352f624c7a",
   "metadata": {
    "tags": []
   },
   "outputs": [
    {
     "data": {
      "text/html": [
       "<div>\n",
       "<style scoped>\n",
       "    .dataframe tbody tr th:only-of-type {\n",
       "        vertical-align: middle;\n",
       "    }\n",
       "\n",
       "    .dataframe tbody tr th {\n",
       "        vertical-align: top;\n",
       "    }\n",
       "\n",
       "    .dataframe thead th {\n",
       "        text-align: right;\n",
       "    }\n",
       "</style>\n",
       "<table border=\"1\" class=\"dataframe\">\n",
       "  <thead>\n",
       "    <tr style=\"text-align: right;\">\n",
       "      <th></th>\n",
       "      <th>p</th>\n",
       "      <th>m</th>\n",
       "      <th>require</th>\n",
       "    </tr>\n",
       "  </thead>\n",
       "  <tbody>\n",
       "    <tr>\n",
       "      <th>0</th>\n",
       "      <td>p1</td>\n",
       "      <td>m1</td>\n",
       "      <td>2</td>\n",
       "    </tr>\n",
       "    <tr>\n",
       "      <th>1</th>\n",
       "      <td>p1</td>\n",
       "      <td>m2</td>\n",
       "      <td>0</td>\n",
       "    </tr>\n",
       "    <tr>\n",
       "      <th>2</th>\n",
       "      <td>p1</td>\n",
       "      <td>m3</td>\n",
       "      <td>1</td>\n",
       "    </tr>\n",
       "    <tr>\n",
       "      <th>3</th>\n",
       "      <td>p2</td>\n",
       "      <td>m1</td>\n",
       "      <td>3</td>\n",
       "    </tr>\n",
       "    <tr>\n",
       "      <th>4</th>\n",
       "      <td>p2</td>\n",
       "      <td>m2</td>\n",
       "      <td>2</td>\n",
       "    </tr>\n",
       "    <tr>\n",
       "      <th>5</th>\n",
       "      <td>p2</td>\n",
       "      <td>m3</td>\n",
       "      <td>0</td>\n",
       "    </tr>\n",
       "    <tr>\n",
       "      <th>6</th>\n",
       "      <td>p3</td>\n",
       "      <td>m1</td>\n",
       "      <td>0</td>\n",
       "    </tr>\n",
       "    <tr>\n",
       "      <th>7</th>\n",
       "      <td>p3</td>\n",
       "      <td>m2</td>\n",
       "      <td>2</td>\n",
       "    </tr>\n",
       "    <tr>\n",
       "      <th>8</th>\n",
       "      <td>p3</td>\n",
       "      <td>m3</td>\n",
       "      <td>2</td>\n",
       "    </tr>\n",
       "    <tr>\n",
       "      <th>9</th>\n",
       "      <td>p4</td>\n",
       "      <td>m1</td>\n",
       "      <td>2</td>\n",
       "    </tr>\n",
       "    <tr>\n",
       "      <th>10</th>\n",
       "      <td>p4</td>\n",
       "      <td>m2</td>\n",
       "      <td>2</td>\n",
       "    </tr>\n",
       "    <tr>\n",
       "      <th>11</th>\n",
       "      <td>p4</td>\n",
       "      <td>m3</td>\n",
       "      <td>2</td>\n",
       "    </tr>\n",
       "  </tbody>\n",
       "</table>\n",
       "</div>"
      ],
      "text/plain": [
       "     p   m  require\n",
       "0   p1  m1        2\n",
       "1   p1  m2        0\n",
       "2   p1  m3        1\n",
       "3   p2  m1        3\n",
       "4   p2  m2        2\n",
       "5   p2  m3        0\n",
       "6   p3  m1        0\n",
       "7   p3  m2        2\n",
       "8   p3  m3        2\n",
       "9   p4  m1        2\n",
       "10  p4  m2        2\n",
       "11  p4  m3        2"
      ]
     },
     "execution_count": 12,
     "metadata": {},
     "output_type": "execute_result"
    }
   ],
   "source": [
    "require_df = pd.read_csv(\"./data/requires.csv\")\n",
    "require_df"
   ]
  },
  {
   "cell_type": "markdown",
   "id": "1ad8a24b-6a7f-4e90-a052-6182fdf36b13",
   "metadata": {},
   "source": [
    "##### 製品を生産した場合の利得データの確認"
   ]
  },
  {
   "cell_type": "code",
   "execution_count": 13,
   "id": "4f697f8e-24b3-459f-8f33-6cc188fec0b2",
   "metadata": {
    "tags": []
   },
   "outputs": [
    {
     "data": {
      "text/html": [
       "<div>\n",
       "<style scoped>\n",
       "    .dataframe tbody tr th:only-of-type {\n",
       "        vertical-align: middle;\n",
       "    }\n",
       "\n",
       "    .dataframe tbody tr th {\n",
       "        vertical-align: top;\n",
       "    }\n",
       "\n",
       "    .dataframe thead th {\n",
       "        text-align: right;\n",
       "    }\n",
       "</style>\n",
       "<table border=\"1\" class=\"dataframe\">\n",
       "  <thead>\n",
       "    <tr style=\"text-align: right;\">\n",
       "      <th></th>\n",
       "      <th>p</th>\n",
       "      <th>gain</th>\n",
       "    </tr>\n",
       "  </thead>\n",
       "  <tbody>\n",
       "    <tr>\n",
       "      <th>0</th>\n",
       "      <td>p1</td>\n",
       "      <td>3</td>\n",
       "    </tr>\n",
       "    <tr>\n",
       "      <th>1</th>\n",
       "      <td>p2</td>\n",
       "      <td>4</td>\n",
       "    </tr>\n",
       "    <tr>\n",
       "      <th>2</th>\n",
       "      <td>p3</td>\n",
       "      <td>4</td>\n",
       "    </tr>\n",
       "    <tr>\n",
       "      <th>3</th>\n",
       "      <td>p4</td>\n",
       "      <td>5</td>\n",
       "    </tr>\n",
       "  </tbody>\n",
       "</table>\n",
       "</div>"
      ],
      "text/plain": [
       "    p  gain\n",
       "0  p1     3\n",
       "1  p2     4\n",
       "2  p3     4\n",
       "3  p4     5"
      ]
     },
     "execution_count": 13,
     "metadata": {},
     "output_type": "execute_result"
    }
   ],
   "source": [
    "gain_df = pd.read_csv(\"./data/gains.csv\")\n",
    "gain_df"
   ]
  },
  {
   "cell_type": "code",
   "execution_count": 15,
   "id": "36f830b9-8fc0-487e-b8bb-cd1c8908a483",
   "metadata": {
    "tags": []
   },
   "outputs": [
    {
     "data": {
      "text/plain": [
       "['p1', 'p2', 'p3', 'p4']"
      ]
     },
     "execution_count": 15,
     "metadata": {},
     "output_type": "execute_result"
    }
   ],
   "source": [
    "Product_list = gain_df[\"p\"].tolist()\n",
    "Product_list"
   ]
  },
  {
   "cell_type": "code",
   "execution_count": 16,
   "id": "5dcdb643-06a7-4fc5-afab-5030bcc0e9ee",
   "metadata": {
    "tags": []
   },
   "outputs": [
    {
     "data": {
      "text/plain": [
       "['m1', 'm2', 'm3']"
      ]
     },
     "execution_count": 16,
     "metadata": {},
     "output_type": "execute_result"
    }
   ],
   "source": [
    "Material_list = stock_df[\"m\"].tolist()\n",
    "Material_list"
   ]
  },
  {
   "cell_type": "code",
   "execution_count": null,
   "id": "51a2fb39-217f-4057-b54f-e55fe3a17801",
   "metadata": {},
   "outputs": [],
   "source": []
  }
 ],
 "metadata": {
  "kernelspec": {
   "display_name": "Python 3 (ipykernel)",
   "language": "python",
   "name": "python3"
  },
  "language_info": {
   "codemirror_mode": {
    "name": "ipython",
    "version": 3
   },
   "file_extension": ".py",
   "mimetype": "text/x-python",
   "name": "python",
   "nbconvert_exporter": "python",
   "pygments_lexer": "ipython3",
   "version": "3.8.18"
  }
 },
 "nbformat": 4,
 "nbformat_minor": 5
}
