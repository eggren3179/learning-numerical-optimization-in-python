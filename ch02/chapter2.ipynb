{
 "cells": [
  {
   "cell_type": "markdown",
   "id": "8658de51-cdea-4972-9b45-8ac4f7d4a102",
   "metadata": {},
   "source": [
    "# 2章 Python数理最適化チュートリアル"
   ]
  },
  {
   "cell_type": "markdown",
   "id": "df0d6c6c-1371-4665-98b9-447ab4e335d1",
   "metadata": {},
   "source": [
    "### 2.1 連立一次方程式をPythonの数理最適化ライブラリで解く"
   ]
  },
  {
   "cell_type": "code",
   "execution_count": 1,
   "id": "6efdf1e9-0a08-489e-b48c-0389179dcff1",
   "metadata": {
    "tags": []
   },
   "outputs": [
    {
     "name": "stdout",
     "output_type": "stream",
     "text": [
      "Welcome to the CBC MILP Solver \n",
      "Version: 2.9.0 \n",
      "Build Date: Feb 12 2015 \n",
      "\n",
      "command line - /home/ren-ito/anaconda3/envs/numerical-optimizaion-env/lib/python3.8/site-packages/pulp/apis/../solverdir/cbc/linux/64/cbc /tmp/99bddab5212b46eb8ccf5d71979adb29-pulp.mps max branch printingOptions all solution /tmp/99bddab5212b46eb8ccf5d71979adb29-pulp.sol (default strategy 1)\n",
      "At line 2 NAME          MODEL\n",
      "At line 3 ROWS\n",
      "At line 7 COLUMNS\n",
      "At line 13 RHS\n",
      "At line 16 BOUNDS\n",
      "At line 20 ENDATA\n",
      "Problem MODEL has 2 rows, 3 columns and 4 elements\n",
      "Coin0008I MODEL read with 0 errors\n",
      "Presolve 0 (-2) rows, 0 (-3) columns and 0 (-4) elements\n",
      "Empty problem - 0 rows, 0 columns and 0 elements\n",
      "Optimal - objective value -0\n",
      "After Postsolve, objective 0, infeasibilities - dual 0 (0), primal 0 (0)\n",
      "Optimal objective 0 - 0 iterations time 0.002, Presolve 0.00\n",
      "Option for printingOptions changed from normal to all\n",
      "Total time (CPU seconds):       0.00   (Wallclock seconds):       0.00\n",
      "\n",
      "Status:Optimal\n",
      "x = 2.0, y = 8.0\n"
     ]
    }
   ],
   "source": [
    "\"\"\"\n",
    "120x + 150y = 1440\n",
    "x + y = 10\n",
    "の単純な線形1次連立方程式を解くプログラム\n",
    "\"\"\"\n",
    "\n",
    "import pulp\n",
    "\n",
    "problem = pulp.LpProblem('SLE', pulp.LpMaximize)\n",
    "\n",
    "x = pulp.LpVariable('x', cat='Continuous')\n",
    "y = pulp.LpVariable('y', cat='Continuous')\n",
    "\n",
    "problem += 120 * x + 150 * y == 1440\n",
    "problem += x + y == 10\n",
    "\n",
    "status = problem.solve()\n",
    "\n",
    "print(f\"Status:{pulp.LpStatus[status]}\")\n",
    "print(f\"x = {x.value()}, y = {y.value()}\")"
   ]
  },
  {
   "cell_type": "markdown",
   "id": "3f4ec025-80bc-4bd9-b5e8-34d4ce688444",
   "metadata": {},
   "source": [
    "### 2.2 線形計画問題をPythonの数理最適化ライブラリで解く"
   ]
  },
  {
   "cell_type": "markdown",
   "id": "d933b7bf-a19e-408c-886d-c833156c9aad",
   "metadata": {},
   "source": [
    "解くべき最適化問題\n",
    "   - max $n_p + 2n_q$\n",
    "   - s.t.\n",
    "      - $n_p, n_q >= 0$\n",
    "      - $n_p+3n_q <= 30$\n",
    "      - $2n_p+n_q <= 40$"
   ]
  },
  {
   "cell_type": "code",
   "execution_count": 8,
   "id": "139aa5c9-ea5e-41c8-8aed-ea93c1e050e9",
   "metadata": {
    "tags": []
   },
   "outputs": [
    {
     "name": "stdout",
     "output_type": "stream",
     "text": [
      "Welcome to the CBC MILP Solver \n",
      "Version: 2.9.0 \n",
      "Build Date: Feb 12 2015 \n",
      "\n",
      "command line - /home/ren-ito/anaconda3/envs/numerical-optimizaion-env/lib/python3.8/site-packages/pulp/apis/../solverdir/cbc/linux/64/cbc /tmp/36b18c48c70c4825a972990bd5201ed6-pulp.mps max branch printingOptions all solution /tmp/36b18c48c70c4825a972990bd5201ed6-pulp.sol (default strategy 1)\n",
      "At line 2 NAME          MODEL\n",
      "At line 3 ROWS\n",
      "At line 9 COLUMNS\n",
      "At line 18 RHS\n",
      "At line 23 BOUNDS\n",
      "At line 26 ENDATA\n",
      "Problem MODEL has 4 rows, 2 columns and 6 elements\n",
      "Coin0008I MODEL read with 0 errors\n",
      "Presolve 2 (-2) rows, 2 (0) columns and 4 (-2) elements\n",
      "0  Obj -0 Dual inf 2.999998 (2)\n",
      "2  Obj 26\n",
      "Optimal - objective value 26\n",
      "After Postsolve, objective 26, infeasibilities - dual 0 (0), primal 0 (0)\n",
      "Optimal objective 26 - 2 iterations time 0.002, Presolve 0.00\n",
      "Option for printingOptions changed from normal to all\n",
      "Total time (CPU seconds):       0.00   (Wallclock seconds):       0.00\n",
      "\n",
      "status:Optimal\n",
      "n_p = 18.0, n_q = 4.0, objective = 26.0\n"
     ]
    }
   ],
   "source": [
    "\"\"\"\n",
    "次のような線形計画問題を解くプログラム\n",
    "   - max $n_p + 2n_q$\n",
    "   - s.t.\n",
    "      - $n_p, n_q >= 0$\n",
    "      - $n_p+3n_q <= 30$\n",
    "      - $2n_p+n_q <= 40$\n",
    "\"\"\"\n",
    "\n",
    "import pulp\n",
    "\n",
    "problem = pulp.LpProblem(\"LP\", pulp.LpMaximize)\n",
    "\n",
    "np = pulp.LpVariable(\"n_p\", cat=\"Continuous\")\n",
    "nq = pulp.LpVariable(\"n_q\", cat=\"Continuous\")\n",
    "\n",
    "#制約条件の追加\n",
    "problem += 1*np + 3*nq <= 30\n",
    "problem += 2*np + 1*nq <= 40\n",
    "problem += np >= 0\n",
    "problem += nq >= 0\n",
    "\n",
    "#目的関数\n",
    "problem += np + 2*nq\n",
    "#これらの書き方でも良い\n",
    "# problem.setObjective(np + 2*nq)\n",
    "# problem.objective = np + 2*nq\n",
    "\n",
    "status = problem.solve()\n",
    "\n",
    "print(f\"status:{pulp.LpStatus[status]}\")\n",
    "print(f\"n_p = {np.value()}, n_q = {nq.value()}, objective = {problem.objective.value()}\")"
   ]
  },
  {
   "cell_type": "markdown",
   "id": "d315b5fd-6458-41bd-ab5d-1f4dd6c8dabe",
   "metadata": {
    "tags": []
   },
   "source": [
    "#### 最適化問題の種類\n",
    "この辺は詳細な書籍を読んだ方が正確な知識は得られそう。\n",
    "  - 線形計画問題：変数が実数値をとる問題\n",
    "  - 整数計画問題：変数が整数値のみを取る問題\n",
    "  - 混合整数計画問題：変数が整数値を取るものと実数値を取るものがある問題\n",
    "  - 0-1整数計画問題：変数が0か1で表せる問題\n",
    "  - 凸二次計画問題：目的関数に凸な二次関数（係数行列が半正値対称行列）が現れる問題"
   ]
  },
  {
   "cell_type": "markdown",
   "id": "13194013-9e9f-4cfd-b4d7-52c18a9a7837",
   "metadata": {},
   "source": [
    "### 2.3 規模の大きな数理最適化問題をPythonライブラリを使って解く"
   ]
  },
  {
   "cell_type": "markdown",
   "id": "9459121a-ea6b-41fc-8271-a36e08a8c543",
   "metadata": {},
   "source": [
    "解くべき最適化問題\n",
    "   - max $c^{T}x =  \\left(\n",
    "\\begin{matrix} \n",
    "3  \\\\ \n",
    "4  \\\\\n",
    "4  \\\\\n",
    "5  \\\\\n",
    "\\end{matrix} \n",
    "\\right) \n",
    "\\left(\n",
    "\\begin{matrix} \n",
    "x_{p_1} & x_{p_2} & x_{p_3} & x_{p_4} \\\\ \n",
    "\\end{matrix} \n",
    "\\right) = 3x_{p_1} + 4x_{p_2} + 4x_{p_3} + 5x_{p_4}$\n",
    "   - s.t.\n",
    "      - $x_{p_1}, x_{p_2}, x_{p_3}, x_{p_4} >= 0$\n",
    "      - $\\left(\\begin{matrix} r_{p_1, m_1} & r_{p_2, m_1} & r_{p_3, m_1} & \\ \\ r_{p_4, m_1}　\\\\ \n",
    "r_{p_1, m_2} & r_{p_2, m_2} & r_{p_3, m_2} & r_{p_4, m_2}  \\\\\n",
    "r_{p_1, m_3} & r_{p_2, m_3} & r_{p_3, m_3} & r_{p_4, m_3}  \n",
    "\\end{matrix} \n",
    "\\right)\n",
    "      \\left(\\begin{matrix} \\ \\ x_{p_1}　\\\\ \n",
    "x_{p_2}  \\\\\n",
    "x_{p_3}  \\\\\n",
    "x_{p_4}  \\\\\n",
    "\\end{matrix} \n",
    "\\right) <= \\left(\n",
    "\\begin{matrix} \n",
    "stock_{m_1}  \\\\ \n",
    "stock_{m_2}  \\\\\n",
    "stock_{m_3}  \\\\\n",
    "\\end{matrix} \n",
    "\\right) $\n",
    "      - $\\left(\\begin{matrix} r_{p_1, m_1} & r_{p_2, m_1} & r_{p_3, m_1} & \\ \\ r_{p_4, m_1}　\\\\ \n",
    "r_{p_1, m_2} & r_{p_2, m_2} & r_{p_3, m_2} & r_{p_4, m_2}  \\\\\n",
    "r_{p_1, m_3} & r_{p_2, m_3} & r_{p_3, m_3} & r_{p_4, m_3}  \n",
    "\\end{matrix} \n",
    "\\right) = \\left(\\begin{matrix} 2 & 3 & 0 & \\ \\ 2　\\\\ \n",
    "0 & 2 & 2 & 2  \\\\\n",
    "1 & 0 & 2 & 2  \n",
    "\\end{matrix} \n",
    "\\right)$\n",
    "      - $\\left(\n",
    "\\begin{matrix} \n",
    "stock_{m_1}  \\\\ \n",
    "stock_{m_2}  \\\\\n",
    "stock_{m_3}  \\\\\n",
    "\\end{matrix} \n",
    "\\right) = \\left(\n",
    "\\begin{matrix} \n",
    "35  \\\\ \n",
    "22  \\\\\n",
    "27  \\\\\n",
    "\\end{matrix} \n",
    "\\right)$"
   ]
  },
  {
   "cell_type": "code",
   "execution_count": 9,
   "id": "65f92eba-05d0-4023-893c-cce299d25c48",
   "metadata": {
    "tags": []
   },
   "outputs": [],
   "source": [
    "import pandas as pd\n",
    "import pulp"
   ]
  },
  {
   "cell_type": "markdown",
   "id": "f1fdacaa-4060-403f-ad1b-fd3320ff2221",
   "metadata": {},
   "source": [
    "##### 在庫データの確認"
   ]
  },
  {
   "cell_type": "code",
   "execution_count": 10,
   "id": "34c8fc85-6cfb-4fce-b45b-7287913049d8",
   "metadata": {
    "tags": []
   },
   "outputs": [
    {
     "data": {
      "text/html": [
       "<div>\n",
       "<style scoped>\n",
       "    .dataframe tbody tr th:only-of-type {\n",
       "        vertical-align: middle;\n",
       "    }\n",
       "\n",
       "    .dataframe tbody tr th {\n",
       "        vertical-align: top;\n",
       "    }\n",
       "\n",
       "    .dataframe thead th {\n",
       "        text-align: right;\n",
       "    }\n",
       "</style>\n",
       "<table border=\"1\" class=\"dataframe\">\n",
       "  <thead>\n",
       "    <tr style=\"text-align: right;\">\n",
       "      <th></th>\n",
       "      <th>m</th>\n",
       "      <th>stock</th>\n",
       "    </tr>\n",
       "  </thead>\n",
       "  <tbody>\n",
       "    <tr>\n",
       "      <th>0</th>\n",
       "      <td>m1</td>\n",
       "      <td>35</td>\n",
       "    </tr>\n",
       "    <tr>\n",
       "      <th>1</th>\n",
       "      <td>m2</td>\n",
       "      <td>22</td>\n",
       "    </tr>\n",
       "    <tr>\n",
       "      <th>2</th>\n",
       "      <td>m3</td>\n",
       "      <td>27</td>\n",
       "    </tr>\n",
       "  </tbody>\n",
       "</table>\n",
       "</div>"
      ],
      "text/plain": [
       "    m  stock\n",
       "0  m1     35\n",
       "1  m2     22\n",
       "2  m3     27"
      ]
     },
     "execution_count": 10,
     "metadata": {},
     "output_type": "execute_result"
    }
   ],
   "source": [
    "stock_df = pd.read_csv(\"./data/stocks.csv\")\n",
    "stock_df"
   ]
  },
  {
   "cell_type": "markdown",
   "id": "74d59605-2ebb-4e45-9c55-555f5c18a533",
   "metadata": {},
   "source": [
    "##### 製品の生産に必要な原料の量データの確認"
   ]
  },
  {
   "cell_type": "code",
   "execution_count": 12,
   "id": "ecae7d6e-e2a7-4a17-ac18-d3352f624c7a",
   "metadata": {
    "tags": []
   },
   "outputs": [
    {
     "data": {
      "text/html": [
       "<div>\n",
       "<style scoped>\n",
       "    .dataframe tbody tr th:only-of-type {\n",
       "        vertical-align: middle;\n",
       "    }\n",
       "\n",
       "    .dataframe tbody tr th {\n",
       "        vertical-align: top;\n",
       "    }\n",
       "\n",
       "    .dataframe thead th {\n",
       "        text-align: right;\n",
       "    }\n",
       "</style>\n",
       "<table border=\"1\" class=\"dataframe\">\n",
       "  <thead>\n",
       "    <tr style=\"text-align: right;\">\n",
       "      <th></th>\n",
       "      <th>p</th>\n",
       "      <th>m</th>\n",
       "      <th>require</th>\n",
       "    </tr>\n",
       "  </thead>\n",
       "  <tbody>\n",
       "    <tr>\n",
       "      <th>0</th>\n",
       "      <td>p1</td>\n",
       "      <td>m1</td>\n",
       "      <td>2</td>\n",
       "    </tr>\n",
       "    <tr>\n",
       "      <th>1</th>\n",
       "      <td>p1</td>\n",
       "      <td>m2</td>\n",
       "      <td>0</td>\n",
       "    </tr>\n",
       "    <tr>\n",
       "      <th>2</th>\n",
       "      <td>p1</td>\n",
       "      <td>m3</td>\n",
       "      <td>1</td>\n",
       "    </tr>\n",
       "    <tr>\n",
       "      <th>3</th>\n",
       "      <td>p2</td>\n",
       "      <td>m1</td>\n",
       "      <td>3</td>\n",
       "    </tr>\n",
       "    <tr>\n",
       "      <th>4</th>\n",
       "      <td>p2</td>\n",
       "      <td>m2</td>\n",
       "      <td>2</td>\n",
       "    </tr>\n",
       "    <tr>\n",
       "      <th>5</th>\n",
       "      <td>p2</td>\n",
       "      <td>m3</td>\n",
       "      <td>0</td>\n",
       "    </tr>\n",
       "    <tr>\n",
       "      <th>6</th>\n",
       "      <td>p3</td>\n",
       "      <td>m1</td>\n",
       "      <td>0</td>\n",
       "    </tr>\n",
       "    <tr>\n",
       "      <th>7</th>\n",
       "      <td>p3</td>\n",
       "      <td>m2</td>\n",
       "      <td>2</td>\n",
       "    </tr>\n",
       "    <tr>\n",
       "      <th>8</th>\n",
       "      <td>p3</td>\n",
       "      <td>m3</td>\n",
       "      <td>2</td>\n",
       "    </tr>\n",
       "    <tr>\n",
       "      <th>9</th>\n",
       "      <td>p4</td>\n",
       "      <td>m1</td>\n",
       "      <td>2</td>\n",
       "    </tr>\n",
       "    <tr>\n",
       "      <th>10</th>\n",
       "      <td>p4</td>\n",
       "      <td>m2</td>\n",
       "      <td>2</td>\n",
       "    </tr>\n",
       "    <tr>\n",
       "      <th>11</th>\n",
       "      <td>p4</td>\n",
       "      <td>m3</td>\n",
       "      <td>2</td>\n",
       "    </tr>\n",
       "  </tbody>\n",
       "</table>\n",
       "</div>"
      ],
      "text/plain": [
       "     p   m  require\n",
       "0   p1  m1        2\n",
       "1   p1  m2        0\n",
       "2   p1  m3        1\n",
       "3   p2  m1        3\n",
       "4   p2  m2        2\n",
       "5   p2  m3        0\n",
       "6   p3  m1        0\n",
       "7   p3  m2        2\n",
       "8   p3  m3        2\n",
       "9   p4  m1        2\n",
       "10  p4  m2        2\n",
       "11  p4  m3        2"
      ]
     },
     "execution_count": 12,
     "metadata": {},
     "output_type": "execute_result"
    }
   ],
   "source": [
    "require_df = pd.read_csv(\"./data/requires.csv\")\n",
    "require_df"
   ]
  },
  {
   "cell_type": "markdown",
   "id": "1ad8a24b-6a7f-4e90-a052-6182fdf36b13",
   "metadata": {},
   "source": [
    "##### 製品を生産した場合の利得データの確認"
   ]
  },
  {
   "cell_type": "code",
   "execution_count": 13,
   "id": "4f697f8e-24b3-459f-8f33-6cc188fec0b2",
   "metadata": {
    "tags": []
   },
   "outputs": [
    {
     "data": {
      "text/html": [
       "<div>\n",
       "<style scoped>\n",
       "    .dataframe tbody tr th:only-of-type {\n",
       "        vertical-align: middle;\n",
       "    }\n",
       "\n",
       "    .dataframe tbody tr th {\n",
       "        vertical-align: top;\n",
       "    }\n",
       "\n",
       "    .dataframe thead th {\n",
       "        text-align: right;\n",
       "    }\n",
       "</style>\n",
       "<table border=\"1\" class=\"dataframe\">\n",
       "  <thead>\n",
       "    <tr style=\"text-align: right;\">\n",
       "      <th></th>\n",
       "      <th>p</th>\n",
       "      <th>gain</th>\n",
       "    </tr>\n",
       "  </thead>\n",
       "  <tbody>\n",
       "    <tr>\n",
       "      <th>0</th>\n",
       "      <td>p1</td>\n",
       "      <td>3</td>\n",
       "    </tr>\n",
       "    <tr>\n",
       "      <th>1</th>\n",
       "      <td>p2</td>\n",
       "      <td>4</td>\n",
       "    </tr>\n",
       "    <tr>\n",
       "      <th>2</th>\n",
       "      <td>p3</td>\n",
       "      <td>4</td>\n",
       "    </tr>\n",
       "    <tr>\n",
       "      <th>3</th>\n",
       "      <td>p4</td>\n",
       "      <td>5</td>\n",
       "    </tr>\n",
       "  </tbody>\n",
       "</table>\n",
       "</div>"
      ],
      "text/plain": [
       "    p  gain\n",
       "0  p1     3\n",
       "1  p2     4\n",
       "2  p3     4\n",
       "3  p4     5"
      ]
     },
     "execution_count": 13,
     "metadata": {},
     "output_type": "execute_result"
    }
   ],
   "source": [
    "gain_df = pd.read_csv(\"./data/gains.csv\")\n",
    "gain_df"
   ]
  },
  {
   "cell_type": "markdown",
   "id": "1b696cfa-73a1-4d8f-9d5f-4bd0f90677fe",
   "metadata": {},
   "source": [
    "#### 必要変数のリストと定数データの作成"
   ]
  },
  {
   "cell_type": "code",
   "execution_count": 15,
   "id": "36f830b9-8fc0-487e-b8bb-cd1c8908a483",
   "metadata": {
    "tags": []
   },
   "outputs": [
    {
     "data": {
      "text/plain": [
       "['p1', 'p2', 'p3', 'p4']"
      ]
     },
     "execution_count": 15,
     "metadata": {},
     "output_type": "execute_result"
    }
   ],
   "source": [
    "Product_list = gain_df[\"p\"].tolist()\n",
    "Product_list"
   ]
  },
  {
   "cell_type": "code",
   "execution_count": 18,
   "id": "5dcdb643-06a7-4fc5-afab-5030bcc0e9ee",
   "metadata": {
    "tags": []
   },
   "outputs": [
    {
     "data": {
      "text/plain": [
       "['m1', 'm2', 'm3']"
      ]
     },
     "execution_count": 18,
     "metadata": {},
     "output_type": "execute_result"
    }
   ],
   "source": [
    "Material_list = stock_df[\"m\"].tolist()\n",
    "Material_list"
   ]
  },
  {
   "cell_type": "code",
   "execution_count": 21,
   "id": "51a2fb39-217f-4057-b54f-e55fe3a17801",
   "metadata": {},
   "outputs": [
    {
     "data": {
      "text/plain": [
       "{'m1': 35, 'm2': 22, 'm3': 27}"
      ]
     },
     "execution_count": 21,
     "metadata": {},
     "output_type": "execute_result"
    }
   ],
   "source": [
    "stock_dict = stock_df.set_index(\"m\").to_dict()[\"stock\"]\n",
    "stock_dict"
   ]
  },
  {
   "cell_type": "code",
   "execution_count": 25,
   "id": "52e2ddb3-4e28-472a-a007-c97d80b96bc7",
   "metadata": {
    "tags": []
   },
   "outputs": [
    {
     "data": {
      "text/plain": [
       "{('p1', 'm1'): 2,\n",
       " ('p1', 'm2'): 0,\n",
       " ('p1', 'm3'): 1,\n",
       " ('p2', 'm1'): 3,\n",
       " ('p2', 'm2'): 2,\n",
       " ('p2', 'm3'): 0,\n",
       " ('p3', 'm1'): 0,\n",
       " ('p3', 'm2'): 2,\n",
       " ('p3', 'm3'): 2,\n",
       " ('p4', 'm1'): 2,\n",
       " ('p4', 'm2'): 2,\n",
       " ('p4', 'm3'): 2}"
      ]
     },
     "execution_count": 25,
     "metadata": {},
     "output_type": "execute_result"
    }
   ],
   "source": [
    "require_dict = require_df.set_index([\"p\", \"m\"]).to_dict()[\"require\"]\n",
    "require_dict"
   ]
  },
  {
   "cell_type": "code",
   "execution_count": 26,
   "id": "3be254bf-f0d3-4dcf-96b3-4db4e08d021c",
   "metadata": {
    "tags": []
   },
   "outputs": [
    {
     "data": {
      "text/plain": [
       "{'p1': 3, 'p2': 4, 'p3': 4, 'p4': 5}"
      ]
     },
     "execution_count": 26,
     "metadata": {},
     "output_type": "execute_result"
    }
   ],
   "source": [
    "gain_dict = gain_df.set_index(\"p\").to_dict()[\"gain\"]\n",
    "gain_dict"
   ]
  },
  {
   "cell_type": "markdown",
   "id": "e9f7f8c8-f841-46eb-81c8-d50d02e1edb7",
   "metadata": {},
   "source": [
    "#### 線形計画問題の定義"
   ]
  },
  {
   "cell_type": "code",
   "execution_count": 27,
   "id": "2abc52a5-e175-424c-863c-15110a51b779",
   "metadata": {
    "tags": []
   },
   "outputs": [],
   "source": [
    "problem = pulp.LpProblem(\"LP-tutorial-2.3\", pulp.LpMaximize)"
   ]
  },
  {
   "cell_type": "markdown",
   "id": "3bd933e0-ae07-47db-b6bf-ac7ea8900e18",
   "metadata": {},
   "source": [
    "#### 変数の定義"
   ]
  },
  {
   "cell_type": "code",
   "execution_count": 39,
   "id": "e6c4ed3f-89e3-4d4d-8d1e-f99a499670fb",
   "metadata": {
    "tags": []
   },
   "outputs": [
    {
     "name": "stdout",
     "output_type": "stream",
     "text": [
      "{'p1': x_p1, 'p2': x_p2, 'p3': x_p3, 'p4': x_p4}\n"
     ]
    }
   ],
   "source": [
    "#製品pの生産量\n",
    "x = pulp.LpVariable.dicts(\"x\", Product_list, cat=\"Continuous\")\n",
    "print(x)"
   ]
  },
  {
   "cell_type": "markdown",
   "id": "d17cc5d1-7a1e-4e21-924d-f19c657035dc",
   "metadata": {},
   "source": [
    "#### 制約式の定義"
   ]
  },
  {
   "cell_type": "code",
   "execution_count": 40,
   "id": "a5826481-3c44-48d2-b540-e06724aac307",
   "metadata": {
    "tags": []
   },
   "outputs": [],
   "source": [
    "for p in Product_list:\n",
    "    problem += x[p] >= 0"
   ]
  },
  {
   "cell_type": "code",
   "execution_count": 43,
   "id": "68944a62-8e3e-4b0a-930f-64d930b0dc30",
   "metadata": {
    "tags": []
   },
   "outputs": [],
   "source": [
    "for m in Material_list:\n",
    "    # sumよりもlpSumの方が高速\n",
    "    problem += pulp.lpSum([require_dict[p,m] * x[p] for p in Product_list]) <= stock_dict[m]"
   ]
  },
  {
   "cell_type": "markdown",
   "id": "7132268f-71d5-4334-8592-34f0b6438b10",
   "metadata": {},
   "source": [
    "#### 目的関数の設定"
   ]
  },
  {
   "cell_type": "code",
   "execution_count": 44,
   "id": "294a4d42-5bad-4b0b-aa60-aeaa4c19dd49",
   "metadata": {
    "tags": []
   },
   "outputs": [],
   "source": [
    "problem.objective = pulp.lpSum([gain_dict[p] * x[p] for p in Product_list])"
   ]
  },
  {
   "cell_type": "markdown",
   "id": "c7312fb4-094e-457a-8fa1-c4fbfb989b8c",
   "metadata": {},
   "source": [
    "#### 問題設定の確認"
   ]
  },
  {
   "cell_type": "code",
   "execution_count": 48,
   "id": "1c4b617e-5882-4d93-bc89-68aa3d2b1a7f",
   "metadata": {
    "tags": []
   },
   "outputs": [
    {
     "name": "stdout",
     "output_type": "stream",
     "text": [
      "LP-tutorial-2.3:\n",
      "MAXIMIZE\n",
      "3*x_p1 + 4*x_p2 + 4*x_p3 + 5*x_p4 + 0\n",
      "SUBJECT TO\n",
      "_C1: x_p1 >= 0\n",
      "\n",
      "_C2: x_p2 >= 0\n",
      "\n",
      "_C3: x_p3 >= 0\n",
      "\n",
      "_C4: x_p4 >= 0\n",
      "\n",
      "_C5: 2 x_p1 + 3 x_p2 + 2 x_p4 <= 35\n",
      "\n",
      "_C6: 2 x_p2 + 2 x_p3 + 2 x_p4 <= 22\n",
      "\n",
      "_C7: x_p1 + 2 x_p3 + 2 x_p4 <= 27\n",
      "\n",
      "VARIABLES\n",
      "x_p1 free Continuous\n",
      "x_p2 free Continuous\n",
      "x_p3 free Continuous\n",
      "x_p4 free Continuous\n",
      "\n"
     ]
    }
   ],
   "source": [
    "print(problem)"
   ]
  },
  {
   "cell_type": "markdown",
   "id": "f94f9905-1192-4370-ad47-7b5dfdbcd03d",
   "metadata": {},
   "source": [
    "#### 最適化問題の求解"
   ]
  },
  {
   "cell_type": "code",
   "execution_count": 45,
   "id": "92e6d32a-4c9c-4104-93dc-aefab6b5e9fc",
   "metadata": {
    "tags": []
   },
   "outputs": [
    {
     "name": "stdout",
     "output_type": "stream",
     "text": [
      "Welcome to the CBC MILP Solver \n",
      "Version: 2.9.0 \n",
      "Build Date: Feb 12 2015 \n",
      "\n",
      "command line - /home/ren-ito/anaconda3/envs/numerical-optimizaion-env/lib/python3.8/site-packages/pulp/apis/../solverdir/cbc/linux/64/cbc /tmp/e3684899c0d54774beb666b24eaabceb-pulp.mps max branch printingOptions all solution /tmp/e3684899c0d54774beb666b24eaabceb-pulp.sol (default strategy 1)\n",
      "At line 2 NAME          MODEL\n",
      "At line 3 ROWS\n",
      "At line 12 COLUMNS\n",
      "At line 30 RHS\n",
      "At line 38 BOUNDS\n",
      "At line 43 ENDATA\n",
      "Problem MODEL has 7 rows, 4 columns and 13 elements\n",
      "Coin0008I MODEL read with 0 errors\n",
      "Presolve 3 (-4) rows, 4 (0) columns and 9 (-4) elements\n",
      "0  Obj -0 Dual inf 17.499996 (4)\n",
      "4  Obj 80.428571\n",
      "Optimal - objective value 80.428571\n",
      "After Postsolve, objective 80.428571, infeasibilities - dual 0 (0), primal 0 (0)\n",
      "Optimal objective 80.42857143 - 4 iterations time 0.002, Presolve 0.00\n",
      "Option for printingOptions changed from normal to all\n",
      "Total time (CPU seconds):       0.00   (Wallclock seconds):       0.00\n",
      "\n",
      "status: Optimal\n"
     ]
    }
   ],
   "source": [
    "status = problem.solve()\n",
    "print(f\"status: {pulp.LpStatus[status]}\")"
   ]
  },
  {
   "cell_type": "markdown",
   "id": "82397a86-ca0f-46e1-adf4-b7ff546e9067",
   "metadata": {},
   "source": [
    "#### 最適解と目的関数値の表示"
   ]
  },
  {
   "cell_type": "code",
   "execution_count": 47,
   "id": "a69edb2a-26b4-4ec7-9d61-50bd1f1bade9",
   "metadata": {
    "tags": []
   },
   "outputs": [
    {
     "name": "stdout",
     "output_type": "stream",
     "text": [
      "Product:p1, Number:12.142857\n",
      "Product:p2, Number:3.5714286\n",
      "Product:p3, Number:7.4285714\n",
      "Product:p4, Number:0.0\n",
      "Objective:80.42857099999999\n"
     ]
    }
   ],
   "source": [
    "for p in Product_list:\n",
    "    print(f\"Product:{p}, Number:{x[p].value()}\")\n",
    "    \n",
    "print(f\"Objective:{problem.objective.value()}\")"
   ]
  },
  {
   "cell_type": "markdown",
   "id": "e33f0c37-b254-4c88-935f-eb6f21f9dab4",
   "metadata": {},
   "source": [
    "#### 2.4 整数最適化問題への変換"
   ]
  },
  {
   "cell_type": "markdown",
   "id": "ee451f2d-f272-436f-be6d-fec7ad5495a7",
   "metadata": {},
   "source": [
    "先の最適化問題に変数が整数であるという制約条件を加えて最適化してみる\n",
    "   - max $c^{T}x =  \\left(\n",
    "\\begin{matrix} \n",
    "3  \\\\ \n",
    "4  \\\\\n",
    "4  \\\\\n",
    "5  \\\\\n",
    "\\end{matrix} \n",
    "\\right) \n",
    "\\left(\n",
    "\\begin{matrix} \n",
    "x_{p_1} & x_{p_2} & x_{p_3} & x_{p_4} \\\\ \n",
    "\\end{matrix} \n",
    "\\right) = 3x_{p_1} + 4x_{p_2} + 4x_{p_3} + 5x_{p_4}$\n",
    "   - s.t.\n",
    "      - $x_{p_1}, x_{p_2}, x_{p_3}, x_{p_4} \\in Z$\n",
    "      - $x_{p_1}, x_{p_2}, x_{p_3}, x_{p_4} >= 0$\n",
    "      - $\\left(\\begin{matrix} r_{p_1, m_1} & r_{p_2, m_1} & r_{p_3, m_1} & \\ \\ r_{p_4, m_1}　\\\\ \n",
    "r_{p_1, m_2} & r_{p_2, m_2} & r_{p_3, m_2} & r_{p_4, m_2}  \\\\\n",
    "r_{p_1, m_3} & r_{p_2, m_3} & r_{p_3, m_3} & r_{p_4, m_3}  \n",
    "\\end{matrix} \n",
    "\\right)\n",
    "      \\left(\\begin{matrix} \\ \\ x_{p_1}　\\\\ \n",
    "x_{p_2}  \\\\\n",
    "x_{p_3}  \\\\\n",
    "x_{p_4}  \\\\\n",
    "\\end{matrix} \n",
    "\\right) <= \\left(\n",
    "\\begin{matrix} \n",
    "stock_{m_1}  \\\\ \n",
    "stock_{m_2}  \\\\\n",
    "stock_{m_3}  \\\\\n",
    "\\end{matrix} \n",
    "\\right) $\n",
    "      - $\\left(\\begin{matrix} r_{p_1, m_1} & r_{p_2, m_1} & r_{p_3, m_1} & \\ \\ r_{p_4, m_1}　\\\\ \n",
    "r_{p_1, m_2} & r_{p_2, m_2} & r_{p_3, m_2} & r_{p_4, m_2}  \\\\\n",
    "r_{p_1, m_3} & r_{p_2, m_3} & r_{p_3, m_3} & r_{p_4, m_3}  \n",
    "\\end{matrix} \n",
    "\\right) = \\left(\\begin{matrix} 2 & 3 & 0 & \\ \\ 2　\\\\ \n",
    "0 & 2 & 2 & 2  \\\\\n",
    "1 & 0 & 2 & 2  \n",
    "\\end{matrix} \n",
    "\\right)$\n",
    "      - $\\left(\n",
    "\\begin{matrix} \n",
    "stock_{m_1}  \\\\ \n",
    "stock_{m_2}  \\\\\n",
    "stock_{m_3}  \\\\\n",
    "\\end{matrix} \n",
    "\\right) = \\left(\n",
    "\\begin{matrix} \n",
    "35  \\\\ \n",
    "22  \\\\\n",
    "27  \\\\\n",
    "\\end{matrix} \n",
    "\\right)$"
   ]
  },
  {
   "cell_type": "code",
   "execution_count": 49,
   "id": "922b848d-07fd-44d5-a49c-cbcffa47a380",
   "metadata": {
    "tags": []
   },
   "outputs": [
    {
     "name": "stdout",
     "output_type": "stream",
     "text": [
      "IP-tutorial-2.4:\n",
      "MAXIMIZE\n",
      "3*x_p1 + 4*x_p2 + 4*x_p3 + 5*x_p4 + 0\n",
      "SUBJECT TO\n",
      "_C1: x_p1 >= 0\n",
      "\n",
      "_C2: x_p2 >= 0\n",
      "\n",
      "_C3: x_p3 >= 0\n",
      "\n",
      "_C4: x_p4 >= 0\n",
      "\n",
      "_C5: 2 x_p1 + 3 x_p2 + 2 x_p4 <= 35\n",
      "\n",
      "_C6: 2 x_p2 + 2 x_p3 + 2 x_p4 <= 22\n",
      "\n",
      "_C7: x_p1 + 2 x_p3 + 2 x_p4 <= 27\n",
      "\n",
      "VARIABLES\n",
      "x_p1 free Integer\n",
      "x_p2 free Integer\n",
      "x_p3 free Integer\n",
      "x_p4 free Integer\n",
      "\n"
     ]
    }
   ],
   "source": [
    "#変数準備\n",
    "Product_list = gain_df[\"p\"].tolist()\n",
    "Material_list = stock_df[\"m\"].tolist()\n",
    "\n",
    "stock_dict = stock_df.set_index(\"m\").to_dict()[\"stock\"]\n",
    "require_dict = require_df.set_index([\"p\", \"m\"]).to_dict()[\"require\"]\n",
    "gain_dict = gain_df.set_index(\"p\").to_dict()[\"gain\"]\n",
    "\n",
    "#最適化問題の定式化\n",
    "problem = pulp.LpProblem(\"IP-tutorial-2.4\", pulp.LpMaximize)\n",
    "\n",
    "#変数（製品pの生産量）の定義\n",
    "x = pulp.LpVariable.dicts(\"x\", Product_list, cat=\"Integer\")\n",
    "\n",
    "# 制約条件の定式化\n",
    "for p in Product_list:\n",
    "    problem += x[p] >= 0\n",
    "for m in Material_list:\n",
    "    # sumよりもlpSumの方が高速\n",
    "    problem += pulp.lpSum([require_dict[p,m] * x[p] for p in Product_list]) <= stock_dict[m]\n",
    "    \n",
    "problem.objective = pulp.lpSum([gain_dict[p] * x[p] for p in Product_list])\n",
    "\n",
    "print(problem)"
   ]
  },
  {
   "cell_type": "markdown",
   "id": "1ccd6df3-9f23-44b8-92c4-bd0360185395",
   "metadata": {},
   "source": [
    "#### 求解"
   ]
  },
  {
   "cell_type": "code",
   "execution_count": 50,
   "id": "2d9efeb9-a10f-44a2-9461-5356f105b746",
   "metadata": {
    "tags": []
   },
   "outputs": [
    {
     "name": "stdout",
     "output_type": "stream",
     "text": [
      "Welcome to the CBC MILP Solver \n",
      "Version: 2.9.0 \n",
      "Build Date: Feb 12 2015 \n",
      "\n",
      "command line - /home/ren-ito/anaconda3/envs/numerical-optimizaion-env/lib/python3.8/site-packages/pulp/apis/../solverdir/cbc/linux/64/cbc /tmp/56570c8215084898be4eae577bcd59e4-pulp.mps max branch printingOptions all solution /tmp/56570c8215084898be4eae577bcd59e4-pulp.sol (default strategy 1)\n",
      "At line 2 NAME          MODEL\n",
      "At line 3 ROWS\n",
      "At line 12 COLUMNS\n",
      "At line 38 RHS\n",
      "At line 46 BOUNDS\n",
      "At line 51 ENDATA\n",
      "Problem MODEL has 7 rows, 4 columns and 13 elements\n",
      "Coin0008I MODEL read with 0 errors\n",
      "Continuous objective value is 80.4286 - 0.00 seconds\n",
      "Cgl0004I processed model has 3 rows, 4 columns (4 integer (0 of which binary)) and 9 elements\n",
      "Cutoff increment increased from 1e-05 to 0.9999\n",
      "Cbc0012I Integer solution of -76 found by DiveCoefficient after 0 iterations and 0 nodes (0.00 seconds)\n",
      "Cbc0038I Full problem 3 rows 4 columns, reduced to 3 rows 3 columns\n",
      "Cbc0012I Integer solution of -79 found by RINS after 0 iterations and 0 nodes (0.01 seconds)\n",
      "Cbc0031I 2 added rows had average density of 3\n",
      "Cbc0013I At root node, 2 cuts changed objective from -80.428571 to -79.000002 in 1 passes\n",
      "Cbc0014I Cut generator 0 (Probing) - 0 row cuts average 0.0 elements, 0 column cuts (0 active)  in 0.000 seconds - new frequency is -100\n",
      "Cbc0014I Cut generator 1 (Gomory) - 2 row cuts average 3.0 elements, 0 column cuts (0 active)  in 0.000 seconds - new frequency is 1\n",
      "Cbc0014I Cut generator 2 (Knapsack) - 0 row cuts average 0.0 elements, 0 column cuts (0 active)  in 0.000 seconds - new frequency is -100\n",
      "Cbc0014I Cut generator 3 (Clique) - 0 row cuts average 0.0 elements, 0 column cuts (0 active)  in 0.000 seconds - new frequency is -100\n",
      "Cbc0014I Cut generator 4 (MixedIntegerRounding2) - 0 row cuts average 0.0 elements, 0 column cuts (0 active)  in 0.000 seconds - new frequency is -100\n",
      "Cbc0014I Cut generator 5 (FlowCover) - 0 row cuts average 0.0 elements, 0 column cuts (0 active)  in 0.000 seconds - new frequency is -100\n",
      "Cbc0001I Search completed - best objective -79, took 0 iterations and 0 nodes (0.01 seconds)\n",
      "Cbc0035I Maximum depth 0, 0 variables fixed on reduced cost\n",
      "Cuts at root node changed objective from -80.4286 to -79\n",
      "Probing was tried 1 times and created 0 cuts of which 0 were active after adding rounds of cuts (0.000 seconds)\n",
      "Gomory was tried 1 times and created 2 cuts of which 0 were active after adding rounds of cuts (0.000 seconds)\n",
      "Knapsack was tried 1 times and created 0 cuts of which 0 were active after adding rounds of cuts (0.000 seconds)\n",
      "Clique was tried 1 times and created 0 cuts of which 0 were active after adding rounds of cuts (0.000 seconds)\n",
      "MixedIntegerRounding2 was tried 1 times and created 0 cuts of which 0 were active after adding rounds of cuts (0.000 seconds)\n",
      "FlowCover was tried 1 times and created 0 cuts of which 0 were active after adding rounds of cuts (0.000 seconds)\n",
      "TwoMirCuts was tried 1 times and created 0 cuts of which 0 were active after adding rounds of cuts (0.000 seconds)\n",
      "\n",
      "Result - Optimal solution found\n",
      "\n",
      "Objective value:                79.00000000\n",
      "Enumerated nodes:               0\n",
      "Total iterations:               0\n",
      "Time (CPU seconds):             0.01\n",
      "Time (Wallclock seconds):       0.01\n",
      "\n",
      "Option for printingOptions changed from normal to all\n",
      "Total time (CPU seconds):       0.01   (Wallclock seconds):       0.01\n",
      "\n",
      "status: Optimal\n"
     ]
    }
   ],
   "source": [
    "status = problem.solve()\n",
    "print(f\"status: {pulp.LpStatus[status]}\")"
   ]
  },
  {
   "cell_type": "markdown",
   "id": "a32dc14a-3f25-4135-87ec-418269a965be",
   "metadata": {},
   "source": [
    "#### 最適解と目的関数の表示"
   ]
  },
  {
   "cell_type": "code",
   "execution_count": 51,
   "id": "4f084337-217d-4fb4-858d-8c040a84d00e",
   "metadata": {
    "tags": []
   },
   "outputs": [
    {
     "name": "stdout",
     "output_type": "stream",
     "text": [
      "Product:p1, Number:13.0\n",
      "Product:p2, Number:3.0\n",
      "Product:p3, Number:7.0\n",
      "Product:p4, Number:-0.0\n",
      "Objective:79.0\n"
     ]
    }
   ],
   "source": [
    "for p in Product_list:\n",
    "    print(f\"Product:{p}, Number:{x[p].value()}\")\n",
    "    \n",
    "print(f\"Objective:{problem.objective.value()}\")"
   ]
  },
  {
   "cell_type": "code",
   "execution_count": null,
   "id": "bca7bc7b-6f32-4a6f-ad71-16599e5cb9dc",
   "metadata": {},
   "outputs": [],
   "source": []
  }
 ],
 "metadata": {
  "kernelspec": {
   "display_name": "Python 3 (ipykernel)",
   "language": "python",
   "name": "python3"
  },
  "language_info": {
   "codemirror_mode": {
    "name": "ipython",
    "version": 3
   },
   "file_extension": ".py",
   "mimetype": "text/x-python",
   "name": "python",
   "nbconvert_exporter": "python",
   "pygments_lexer": "ipython3",
   "version": "3.8.18"
  }
 },
 "nbformat": 4,
 "nbformat_minor": 5
}
