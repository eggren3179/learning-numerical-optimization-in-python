{
 "cells": [
  {
   "cell_type": "markdown",
   "id": "80068804-8b16-4a46-b902-65b1ed7b7b52",
   "metadata": {},
   "source": [
    "# 学校のクラス編成問題"
   ]
  },
  {
   "cell_type": "markdown",
   "id": "f5c48488-cece-4a44-a729-dfe95a40ab67",
   "metadata": {},
   "source": [
    "## 1. 問題設定\n",
    "とある学校のある学年のクラス編成を考える問題を考える。\n",
    "#### 1-1. 前提条件\n",
    " - 学年の人数：318人（男子：158人、女子：160人）\n",
    " - クラス数：8\n",
    " - 学力試験は500点満点で、学年平均点は303.6点\n",
    " - 学年にリーダー気質の生徒が17人いる\n",
    " - 学年に特別な支援が必要な生徒が4人いる\n",
    "#### 1-2. 解くべき最適化問題の要件\n",
    " - 318人の生徒全員をそれぞれ1つのクラスに割り当てる\n",
    " - 8つのクラスに割り当てるので、各クラスの生徒数は39人以上、40人以下とする\n",
    " - クラスの男女の割合をほぼ一定にするため、各クラスの男子、女子生徒の人数はそれぞれ20人以下とする\n",
    " - クラス間の学力差をなくすため、各クラスの学力試験の平均点は学年平均点$\\pm10$点とする\n",
    " - 各クラスにリーダー気質の生徒を2人以上割り当てる\n",
    " - 特別な支援が必要な生徒は各クラスに1人以下とする\n",
    " - 同姓同名や双子の兄弟など、特定ペアの生徒は同一クラスに割り当てないように配慮する"
   ]
  },
  {
   "cell_type": "markdown",
   "id": "58462755-e66d-40f2-bc2d-cbc033ed1d40",
   "metadata": {},
   "source": [
    "## 2. 必要ライブラリのインポートとデータ確認"
   ]
  },
  {
   "cell_type": "code",
   "execution_count": 1,
   "id": "f0e1e4bc-232a-4676-9c8d-0ca8b45b5072",
   "metadata": {
    "tags": []
   },
   "outputs": [],
   "source": [
    "import numpy as np\n",
    "import pandas as pd"
   ]
  },
  {
   "cell_type": "markdown",
   "id": "d474b637-a430-4a2b-b194-d5a635bf9da0",
   "metadata": {},
   "source": [
    "##### 生徒情報の確認"
   ]
  },
  {
   "cell_type": "code",
   "execution_count": 2,
   "id": "49b872a7-ba4d-406a-9261-8d82b960ac51",
   "metadata": {
    "tags": []
   },
   "outputs": [
    {
     "data": {
      "text/html": [
       "<div>\n",
       "<style scoped>\n",
       "    .dataframe tbody tr th:only-of-type {\n",
       "        vertical-align: middle;\n",
       "    }\n",
       "\n",
       "    .dataframe tbody tr th {\n",
       "        vertical-align: top;\n",
       "    }\n",
       "\n",
       "    .dataframe thead th {\n",
       "        text-align: right;\n",
       "    }\n",
       "</style>\n",
       "<table border=\"1\" class=\"dataframe\">\n",
       "  <thead>\n",
       "    <tr style=\"text-align: right;\">\n",
       "      <th></th>\n",
       "      <th>student_id</th>\n",
       "      <th>gender</th>\n",
       "      <th>leader_flag</th>\n",
       "      <th>support_flag</th>\n",
       "      <th>score</th>\n",
       "    </tr>\n",
       "  </thead>\n",
       "  <tbody>\n",
       "    <tr>\n",
       "      <th>0</th>\n",
       "      <td>1</td>\n",
       "      <td>0</td>\n",
       "      <td>0</td>\n",
       "      <td>0</td>\n",
       "      <td>335</td>\n",
       "    </tr>\n",
       "    <tr>\n",
       "      <th>1</th>\n",
       "      <td>2</td>\n",
       "      <td>1</td>\n",
       "      <td>0</td>\n",
       "      <td>0</td>\n",
       "      <td>379</td>\n",
       "    </tr>\n",
       "    <tr>\n",
       "      <th>2</th>\n",
       "      <td>3</td>\n",
       "      <td>0</td>\n",
       "      <td>0</td>\n",
       "      <td>0</td>\n",
       "      <td>350</td>\n",
       "    </tr>\n",
       "    <tr>\n",
       "      <th>3</th>\n",
       "      <td>4</td>\n",
       "      <td>0</td>\n",
       "      <td>0</td>\n",
       "      <td>0</td>\n",
       "      <td>301</td>\n",
       "    </tr>\n",
       "    <tr>\n",
       "      <th>4</th>\n",
       "      <td>5</td>\n",
       "      <td>1</td>\n",
       "      <td>0</td>\n",
       "      <td>0</td>\n",
       "      <td>317</td>\n",
       "    </tr>\n",
       "    <tr>\n",
       "      <th>...</th>\n",
       "      <td>...</td>\n",
       "      <td>...</td>\n",
       "      <td>...</td>\n",
       "      <td>...</td>\n",
       "      <td>...</td>\n",
       "    </tr>\n",
       "    <tr>\n",
       "      <th>313</th>\n",
       "      <td>314</td>\n",
       "      <td>0</td>\n",
       "      <td>0</td>\n",
       "      <td>0</td>\n",
       "      <td>244</td>\n",
       "    </tr>\n",
       "    <tr>\n",
       "      <th>314</th>\n",
       "      <td>315</td>\n",
       "      <td>1</td>\n",
       "      <td>0</td>\n",
       "      <td>0</td>\n",
       "      <td>309</td>\n",
       "    </tr>\n",
       "    <tr>\n",
       "      <th>315</th>\n",
       "      <td>316</td>\n",
       "      <td>0</td>\n",
       "      <td>0</td>\n",
       "      <td>0</td>\n",
       "      <td>239</td>\n",
       "    </tr>\n",
       "    <tr>\n",
       "      <th>316</th>\n",
       "      <td>317</td>\n",
       "      <td>1</td>\n",
       "      <td>0</td>\n",
       "      <td>0</td>\n",
       "      <td>356</td>\n",
       "    </tr>\n",
       "    <tr>\n",
       "      <th>317</th>\n",
       "      <td>318</td>\n",
       "      <td>0</td>\n",
       "      <td>0</td>\n",
       "      <td>0</td>\n",
       "      <td>256</td>\n",
       "    </tr>\n",
       "  </tbody>\n",
       "</table>\n",
       "<p>318 rows × 5 columns</p>\n",
       "</div>"
      ],
      "text/plain": [
       "     student_id  gender  leader_flag  support_flag  score\n",
       "0             1       0            0             0    335\n",
       "1             2       1            0             0    379\n",
       "2             3       0            0             0    350\n",
       "3             4       0            0             0    301\n",
       "4             5       1            0             0    317\n",
       "..          ...     ...          ...           ...    ...\n",
       "313         314       0            0             0    244\n",
       "314         315       1            0             0    309\n",
       "315         316       0            0             0    239\n",
       "316         317       1            0             0    356\n",
       "317         318       0            0             0    256\n",
       "\n",
       "[318 rows x 5 columns]"
      ]
     },
     "execution_count": 2,
     "metadata": {},
     "output_type": "execute_result"
    }
   ],
   "source": [
    "students_df = pd.read_csv(\"./data/students.csv\")\n",
    "students_df"
   ]
  },
  {
   "cell_type": "markdown",
   "id": "8486a3f2-cd1e-48f7-ae56-458ec2e36e0e",
   "metadata": {},
   "source": [
    "student_idがユニークな値で、欠損値なくすべての値が使われているかどうかの確認"
   ]
  },
  {
   "cell_type": "code",
   "execution_count": 8,
   "id": "3809150b-dce6-4513-bf63-5aee5ed1654b",
   "metadata": {
    "tags": []
   },
   "outputs": [
    {
     "name": "stdout",
     "output_type": "stream",
     "text": [
      "Num of student_id:318\n",
      "Is student_id unique?:True\n",
      "Is there number-loss in student_id?:True\n"
     ]
    }
   ],
   "source": [
    "studnet_id_list = students_df[\"student_id\"].unique()\n",
    "is_student_id_unique = len(studnet_id_list) == 318\n",
    "is_student_id_not_loss = set(range(1,319)) == set(studnet_id_list)\n",
    "print(f\"Num of student_id:{len(studnet_id_list)}\")\n",
    "print(f\"Is student_id unique?:{is_student_id_unique}\")\n",
    "print(f\"Is there number-loss in student_id?:{is_student_id_not_loss}\")"
   ]
  },
  {
   "cell_type": "code",
   "execution_count": 9,
   "id": "233a98d0-0900-4c01-b66c-263187a46412",
   "metadata": {
    "tags": []
   },
   "outputs": [
    {
     "data": {
      "text/plain": [
       "count    318.000000\n",
       "mean     303.644654\n",
       "std       65.179995\n",
       "min       88.000000\n",
       "25%      261.000000\n",
       "50%      310.000000\n",
       "75%      350.000000\n",
       "max      485.000000\n",
       "Name: score, dtype: float64"
      ]
     },
     "execution_count": 9,
     "metadata": {},
     "output_type": "execute_result"
    }
   ],
   "source": [
    "students_df[\"score\"].describe()"
   ]
  },
  {
   "cell_type": "code",
   "execution_count": 10,
   "id": "87fa8bf2-8067-43fd-9f0b-c6ab52d80abc",
   "metadata": {
    "tags": []
   },
   "outputs": [
    {
     "data": {
      "text/plain": [
       "<AxesSubplot:>"
      ]
     },
     "execution_count": 10,
     "metadata": {},
     "output_type": "execute_result"
    },
    {
     "data": {
      "image/png": "[encoded data removed]",
      "text/plain": [
       "<Figure size 640x480 with 1 Axes>"
      ]
     },
     "metadata": {},
     "output_type": "display_data"
    }
   ],
   "source": [
    "students_df[\"score\"].hist()"
   ]
  },
  {
   "cell_type": "code",
   "execution_count": 13,
   "id": "243aca67-b5e4-4290-bc64-dca0221c0ea9",
   "metadata": {
    "tags": []
   },
   "outputs": [
    {
     "data": {
      "text/plain": [
       "0    160\n",
       "1    158\n",
       "Name: gender, dtype: int64"
      ]
     },
     "execution_count": 13,
     "metadata": {},
     "output_type": "execute_result"
    }
   ],
   "source": [
    "students_df[\"gender\"].value_counts()"
   ]
  },
  {
   "cell_type": "code",
   "execution_count": 12,
   "id": "f3047783-26e9-46c6-b45c-bb0b2d666eee",
   "metadata": {
    "tags": []
   },
   "outputs": [
    {
     "data": {
      "text/plain": [
       "0    301\n",
       "1     17\n",
       "Name: leader_flag, dtype: int64"
      ]
     },
     "execution_count": 12,
     "metadata": {},
     "output_type": "execute_result"
    }
   ],
   "source": [
    "students_df[\"leader_flag\"].value_counts()"
   ]
  },
  {
   "cell_type": "code",
   "execution_count": 14,
   "id": "45a02f09-eeef-4d0d-b50f-737e6a38d6dd",
   "metadata": {
    "tags": []
   },
   "outputs": [
    {
     "data": {
      "text/plain": [
       "0    314\n",
       "1      4\n",
       "Name: support_flag, dtype: int64"
      ]
     },
     "execution_count": 14,
     "metadata": {},
     "output_type": "execute_result"
    }
   ],
   "source": [
    "students_df[\"support_flag\"].value_counts()"
   ]
  },
  {
   "cell_type": "markdown",
   "id": "9c14ab65-4549-4e42-a02f-83bf56dd89d5",
   "metadata": {},
   "source": [
    "##### 生徒内で考慮が必要な特定ペア情報の確認"
   ]
  },
  {
   "cell_type": "code",
   "execution_count": 15,
   "id": "a5518f33-c3e7-492d-a3e5-aa47673c9689",
   "metadata": {
    "tags": []
   },
   "outputs": [
    {
     "data": {
      "text/html": [
       "<div>\n",
       "<style scoped>\n",
       "    .dataframe tbody tr th:only-of-type {\n",
       "        vertical-align: middle;\n",
       "    }\n",
       "\n",
       "    .dataframe tbody tr th {\n",
       "        vertical-align: top;\n",
       "    }\n",
       "\n",
       "    .dataframe thead th {\n",
       "        text-align: right;\n",
       "    }\n",
       "</style>\n",
       "<table border=\"1\" class=\"dataframe\">\n",
       "  <thead>\n",
       "    <tr style=\"text-align: right;\">\n",
       "      <th></th>\n",
       "      <th>student_id1</th>\n",
       "      <th>student_id2</th>\n",
       "    </tr>\n",
       "  </thead>\n",
       "  <tbody>\n",
       "    <tr>\n",
       "      <th>0</th>\n",
       "      <td>118</td>\n",
       "      <td>189</td>\n",
       "    </tr>\n",
       "    <tr>\n",
       "      <th>1</th>\n",
       "      <td>72</td>\n",
       "      <td>50</td>\n",
       "    </tr>\n",
       "    <tr>\n",
       "      <th>2</th>\n",
       "      <td>314</td>\n",
       "      <td>233</td>\n",
       "    </tr>\n",
       "  </tbody>\n",
       "</table>\n",
       "</div>"
      ],
      "text/plain": [
       "   student_id1  student_id2\n",
       "0          118          189\n",
       "1           72           50\n",
       "2          314          233"
      ]
     },
     "execution_count": 15,
     "metadata": {},
     "output_type": "execute_result"
    }
   ],
   "source": [
    "students_pair_df = pd.read_csv(\"./data/student_pairs.csv\")\n",
    "students_pair_df"
   ]
  },
  {
   "cell_type": "markdown",
   "id": "76326b2e-a5d5-4c4b-b666-2716637b30f8",
   "metadata": {},
   "source": [
    "## 3. 最適化問題の定義と求解"
   ]
  },
  {
   "cell_type": "code",
   "execution_count": 16,
   "id": "fb8bd318-4bd5-4a04-bf82-6e835f2621dd",
   "metadata": {
    "tags": []
   },
   "outputs": [],
   "source": [
    "import pulp"
   ]
  },
  {
   "cell_type": "code",
   "execution_count": 17,
   "id": "bc904dbd-a490-49a1-bb12-5e973f5d8cfc",
   "metadata": {
    "tags": []
   },
   "outputs": [],
   "source": [
    "problem = pulp.LpProblem(\"ClassAssignmentProblem\", pulp.LpMaximize)"
   ]
  },
  {
   "cell_type": "markdown",
   "id": "18e8c9e9-f573-4442-982f-4aa04e8f4e64",
   "metadata": {},
   "source": [
    "#### 3-1. 最適化要件１：318人の生徒全員をそれぞれ1つのクラスに割り当てる\n",
    " - 生徒のリスト$S$, クラスのリスト$C$とする。\n",
    " - 生徒$s(\\in S)$がクラス$c(\\in C)$に割り当てられるかどうかを表す変数$x_{s,c}$\n",
    "   $$\n",
    "   x_{s,c} = \\left\\{\n",
    "   \\begin{array}{ll}\n",
    "   1 & (\\text{allocated}) \\\\ \n",
    "   0 & (\\text{not allocated})\n",
    "   \\end{array}\n",
    "   \\right.\n",
    "   $$\n",
    " - 各クラスへ割り当てられる\n",
    "   $$ \\sum_{c\\in C} x_{s,c} = 1$$\n"
   ]
  },
  {
   "cell_type": "code",
   "execution_count": 19,
   "id": "04d2af70-6091-4f8e-a0a7-9f4e0d3a0bad",
   "metadata": {
    "tags": []
   },
   "outputs": [
    {
     "data": {
      "text/plain": [
       "[0, 1, 2, 3, 4, 5, 6, 7]"
      ]
     },
     "execution_count": 19,
     "metadata": {},
     "output_type": "execute_result"
    }
   ],
   "source": [
    "num_of_class = 8\n",
    "class_list = [c for c in range(num_of_class)]\n",
    "class_list"
   ]
  },
  {
   "cell_type": "code",
   "execution_count": 21,
   "id": "dac1c8c6-637c-4793-b6de-315a4da72eaf",
   "metadata": {
    "tags": []
   },
   "outputs": [],
   "source": [
    "students_list = students_df[\"student_id\"].to_list()\n",
    "# students_list"
   ]
  },
  {
   "cell_type": "code",
   "execution_count": 27,
   "id": "e7ca92ee-a41a-41ab-a513-ccf2f3ab0b48",
   "metadata": {
    "tags": []
   },
   "outputs": [],
   "source": [
    "# 生徒とクラスの全ペアのリスト\n",
    "all_class_students_pair = [(s,c) for s in students_list for c in class_list]\n",
    "# all_class_students_pair\n",
    "\n",
    "# 生徒をどのクラスに割り当てるかを表す変数を定義\n",
    "x = pulp.LpVariable.dicts(\"x\",all_class_students_pair, cat=\"Binary\")\n",
    "# x\n",
    "# {(1, 0): x_(1,_0),\n",
    "#  (1, 1): x_(1,_1),\n",
    "#  (1, 2): x_(1,_2),\n",
    "#  (1, 3): x_(1,_3),\n",
    "#  (1, 4): x_(1,_4),...}"
   ]
  },
  {
   "cell_type": "code",
   "execution_count": 29,
   "id": "a0d2ff27-9869-482d-8edc-e5ec5732644e",
   "metadata": {
    "tags": []
   },
   "outputs": [],
   "source": [
    "# 最適化要件１の実装\n",
    "for s in students_list:\n",
    "    problem += pulp.lpSum([x[s,c] for c in class_list]) == 1"
   ]
  },
  {
   "cell_type": "markdown",
   "id": "1e0d8c19-9639-43b1-aa59-6bb1cf959776",
   "metadata": {},
   "source": [
    "#### 3-2. 最適化要件２：各クラスの生徒数は39人以上、40人以下とする\n",
    " - 生徒のリスト$S$, クラスのリスト$C$とする\n",
    " - 生徒$s(\\in S)$がクラス$c(\\in C)$に割り当てられるかどうかを表す変数$x_{s,c}$\n",
    " - 満たすべき条件式：\n",
    "    $$ \\sum_{s \\in S} x_{s,c} >= 39$$\n",
    "    $$ \\sum_{s \\in S} x_{s,c} <= 40$$"
   ]
  },
  {
   "cell_type": "code",
   "execution_count": 30,
   "id": "972c6fd4-7e43-4233-b0fd-7971cfe1d18b",
   "metadata": {
    "tags": []
   },
   "outputs": [],
   "source": [
    "#最適化要件２の実装\n",
    "for c in class_list:\n",
    "    problem += pulp.lpSum([x[s,c] for s in students_list]) >= 39\n",
    "    problem += pulp.lpSum([x[s,c] for s in students_list]) <= 40"
   ]
  },
  {
   "cell_type": "markdown",
   "id": "153027b3-1cd9-4a8c-a5cc-4d73aa7d1e63",
   "metadata": {},
   "source": [
    "#### 3-3. 最適化要件３：各クラスの男子、女子生徒の人数はそれぞれ20人以下とする\n",
    " - 生徒のリスト$S$, クラスのリスト$C$とする\n",
    " - 男子生徒のリスト$S_{\\text{male}}$, 女子生徒のリスト$S_{\\text{female}}$とする。\n",
    " - 生徒$s(\\in S)$がクラス$c(\\in C)$に割り当てられるかどうかを表す変数$x_{s,c}$が満たすべき条件式\n",
    "   $$ \\sum_{s \\in S_{\\text{male}}} x_{s,c} <= 20$$\n",
    "   $$ \\sum_{s \\in S_{\\text{female}}} x_{s,c} <= 20$$"
   ]
  },
  {
   "cell_type": "code",
   "execution_count": 38,
   "id": "5e256287-a241-44c7-930b-5e841e434979",
   "metadata": {
    "tags": []
   },
   "outputs": [
    {
     "name": "stdout",
     "output_type": "stream",
     "text": [
      "num of male:158\n"
     ]
    }
   ],
   "source": [
    "male_df = students_df[students_df[\"gender\"] == 1]\n",
    "male_list = male_df[\"student_id\"].to_list()\n",
    "print(f\"num of male:{len(male_list)}\")"
   ]
  },
  {
   "cell_type": "code",
   "execution_count": 40,
   "id": "2b424a60-855c-4c8d-9e2d-097f0416549b",
   "metadata": {
    "tags": []
   },
   "outputs": [
    {
     "name": "stdout",
     "output_type": "stream",
     "text": [
      "num of female:160\n"
     ]
    }
   ],
   "source": [
    "female_df = students_df[students_df[\"gender\"] == 0]\n",
    "female_list = female_df[\"student_id\"].to_list()\n",
    "print(f\"num of female:{len(female_list)}\")"
   ]
  },
  {
   "cell_type": "code",
   "execution_count": 41,
   "id": "0d51330f-1a81-4351-abb8-51650ca4b571",
   "metadata": {
    "tags": []
   },
   "outputs": [],
   "source": [
    "#最適化要件３の実装\n",
    "for c in class_list:\n",
    "    problem += pulp.lpSum([x[ms,c] for ms in male_list]) <= 20\n",
    "    problem += pulp.lpSum([x[fs,c] for fs in female_list]) <= 20"
   ]
  },
  {
   "cell_type": "code",
   "execution_count": null,
   "id": "72674537-0307-4ec1-9f92-7d6b5105fc8f",
   "metadata": {},
   "outputs": [],
   "source": []
  }
 ],
 "metadata": {
  "kernelspec": {
   "display_name": "Python 3 (ipykernel)",
   "language": "python",
   "name": "python3"
  },
  "language_info": {
   "codemirror_mode": {
    "name": "ipython",
    "version": 3
   },
   "file_extension": ".py",
   "mimetype": "text/x-python",
   "name": "python",
   "nbconvert_exporter": "python",
   "pygments_lexer": "ipython3",
   "version": "3.8.18"
  }
 },
 "nbformat": 4,
 "nbformat_minor": 5
}
