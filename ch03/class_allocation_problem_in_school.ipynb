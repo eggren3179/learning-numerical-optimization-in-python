{
 "cells": [
  {
   "cell_type": "markdown",
   "id": "80068804-8b16-4a46-b902-65b1ed7b7b52",
   "metadata": {},
   "source": [
    "# 学校のクラス編成問題"
   ]
  },
  {
   "cell_type": "markdown",
   "id": "f5c48488-cece-4a44-a729-dfe95a40ab67",
   "metadata": {},
   "source": [
    "## 1. 問題設定\n",
    "とある学校のある学年のクラス編成を考える問題を考える。\n",
    "#### 1-1. 前提条件\n",
    " - 学年の人数：318人（男子：158人、女子：160人）\n",
    " - クラス数：8\n",
    " - 学力試験は500点満点で、学年平均点は303.6点\n",
    " - 学年にリーダー気質の生徒が17人いる\n",
    " - 学年に特別な支援が必要な生徒が4人いる\n",
    "#### 1-2. 解くべき最適化問題の要件\n",
    " - 318人の生徒全員をそれぞれ1つのクラスに割り当てる\n",
    " - 8つのクラスに割り当てるので、各クラスの生徒数は39人以上、40人以下とする\n",
    " - クラスの男女の割合をほぼ一定にするため、各クラスの男子、女子生徒の人数はそれぞれ20人以下とする\n",
    " - クラス間の学力差をなくすため、各クラスの学力試験の平均点は学年平均点$\\pm10$点とする\n",
    " - 各クラスにリーダー気質の生徒を2人以上割り当てる\n",
    " - 特別な支援が必要な生徒は各クラスに1人以下とする\n",
    " - 同姓同名や双子の兄弟など、特定ペアの生徒は同一クラスに割り当てないように配慮する"
   ]
  },
  {
   "cell_type": "markdown",
   "id": "58462755-e66d-40f2-bc2d-cbc033ed1d40",
   "metadata": {},
   "source": [
    "## 2. 必要ライブラリのインポートとデータ確認"
   ]
  },
  {
   "cell_type": "code",
   "execution_count": 1,
   "id": "f0e1e4bc-232a-4676-9c8d-0ca8b45b5072",
   "metadata": {
    "tags": []
   },
   "outputs": [],
   "source": [
    "import numpy as np\n",
    "import pandas as pd"
   ]
  },
  {
   "cell_type": "markdown",
   "id": "d474b637-a430-4a2b-b194-d5a635bf9da0",
   "metadata": {},
   "source": [
    "##### 生徒情報の確認"
   ]
  },
  {
   "cell_type": "code",
   "execution_count": 2,
   "id": "49b872a7-ba4d-406a-9261-8d82b960ac51",
   "metadata": {
    "tags": []
   },
   "outputs": [
    {
     "data": {
      "text/html": [
       "<div>\n",
       "<style scoped>\n",
       "    .dataframe tbody tr th:only-of-type {\n",
       "        vertical-align: middle;\n",
       "    }\n",
       "\n",
       "    .dataframe tbody tr th {\n",
       "        vertical-align: top;\n",
       "    }\n",
       "\n",
       "    .dataframe thead th {\n",
       "        text-align: right;\n",
       "    }\n",
       "</style>\n",
       "<table border=\"1\" class=\"dataframe\">\n",
       "  <thead>\n",
       "    <tr style=\"text-align: right;\">\n",
       "      <th></th>\n",
       "      <th>student_id</th>\n",
       "      <th>gender</th>\n",
       "      <th>leader_flag</th>\n",
       "      <th>support_flag</th>\n",
       "      <th>score</th>\n",
       "    </tr>\n",
       "  </thead>\n",
       "  <tbody>\n",
       "    <tr>\n",
       "      <th>0</th>\n",
       "      <td>1</td>\n",
       "      <td>0</td>\n",
       "      <td>0</td>\n",
       "      <td>0</td>\n",
       "      <td>335</td>\n",
       "    </tr>\n",
       "    <tr>\n",
       "      <th>1</th>\n",
       "      <td>2</td>\n",
       "      <td>1</td>\n",
       "      <td>0</td>\n",
       "      <td>0</td>\n",
       "      <td>379</td>\n",
       "    </tr>\n",
       "    <tr>\n",
       "      <th>2</th>\n",
       "      <td>3</td>\n",
       "      <td>0</td>\n",
       "      <td>0</td>\n",
       "      <td>0</td>\n",
       "      <td>350</td>\n",
       "    </tr>\n",
       "    <tr>\n",
       "      <th>3</th>\n",
       "      <td>4</td>\n",
       "      <td>0</td>\n",
       "      <td>0</td>\n",
       "      <td>0</td>\n",
       "      <td>301</td>\n",
       "    </tr>\n",
       "    <tr>\n",
       "      <th>4</th>\n",
       "      <td>5</td>\n",
       "      <td>1</td>\n",
       "      <td>0</td>\n",
       "      <td>0</td>\n",
       "      <td>317</td>\n",
       "    </tr>\n",
       "    <tr>\n",
       "      <th>...</th>\n",
       "      <td>...</td>\n",
       "      <td>...</td>\n",
       "      <td>...</td>\n",
       "      <td>...</td>\n",
       "      <td>...</td>\n",
       "    </tr>\n",
       "    <tr>\n",
       "      <th>313</th>\n",
       "      <td>314</td>\n",
       "      <td>0</td>\n",
       "      <td>0</td>\n",
       "      <td>0</td>\n",
       "      <td>244</td>\n",
       "    </tr>\n",
       "    <tr>\n",
       "      <th>314</th>\n",
       "      <td>315</td>\n",
       "      <td>1</td>\n",
       "      <td>0</td>\n",
       "      <td>0</td>\n",
       "      <td>309</td>\n",
       "    </tr>\n",
       "    <tr>\n",
       "      <th>315</th>\n",
       "      <td>316</td>\n",
       "      <td>0</td>\n",
       "      <td>0</td>\n",
       "      <td>0</td>\n",
       "      <td>239</td>\n",
       "    </tr>\n",
       "    <tr>\n",
       "      <th>316</th>\n",
       "      <td>317</td>\n",
       "      <td>1</td>\n",
       "      <td>0</td>\n",
       "      <td>0</td>\n",
       "      <td>356</td>\n",
       "    </tr>\n",
       "    <tr>\n",
       "      <th>317</th>\n",
       "      <td>318</td>\n",
       "      <td>0</td>\n",
       "      <td>0</td>\n",
       "      <td>0</td>\n",
       "      <td>256</td>\n",
       "    </tr>\n",
       "  </tbody>\n",
       "</table>\n",
       "<p>318 rows × 5 columns</p>\n",
       "</div>"
      ],
      "text/plain": [
       "     student_id  gender  leader_flag  support_flag  score\n",
       "0             1       0            0             0    335\n",
       "1             2       1            0             0    379\n",
       "2             3       0            0             0    350\n",
       "3             4       0            0             0    301\n",
       "4             5       1            0             0    317\n",
       "..          ...     ...          ...           ...    ...\n",
       "313         314       0            0             0    244\n",
       "314         315       1            0             0    309\n",
       "315         316       0            0             0    239\n",
       "316         317       1            0             0    356\n",
       "317         318       0            0             0    256\n",
       "\n",
       "[318 rows x 5 columns]"
      ]
     },
     "execution_count": 2,
     "metadata": {},
     "output_type": "execute_result"
    }
   ],
   "source": [
    "students_df = pd.read_csv(\"./data/students.csv\")\n",
    "students_df"
   ]
  },
  {
   "cell_type": "markdown",
   "id": "8486a3f2-cd1e-48f7-ae56-458ec2e36e0e",
   "metadata": {},
   "source": [
    "student_idがユニークな値で、欠損値なくすべての値が使われているかどうかの確認"
   ]
  },
  {
   "cell_type": "code",
   "execution_count": 3,
   "id": "3809150b-dce6-4513-bf63-5aee5ed1654b",
   "metadata": {
    "tags": []
   },
   "outputs": [
    {
     "name": "stdout",
     "output_type": "stream",
     "text": [
      "Num of student_id:318\n",
      "Is student_id unique?:True\n",
      "Is there number-loss in student_id?:True\n"
     ]
    }
   ],
   "source": [
    "studnet_id_list = students_df[\"student_id\"].unique()\n",
    "is_student_id_unique = len(studnet_id_list) == 318\n",
    "is_student_id_not_loss = set(range(1,319)) == set(studnet_id_list)\n",
    "print(f\"Num of student_id:{len(studnet_id_list)}\")\n",
    "print(f\"Is student_id unique?:{is_student_id_unique}\")\n",
    "print(f\"Is there number-loss in student_id?:{is_student_id_not_loss}\")"
   ]
  },
  {
   "cell_type": "code",
   "execution_count": 4,
   "id": "233a98d0-0900-4c01-b66c-263187a46412",
   "metadata": {
    "tags": []
   },
   "outputs": [
    {
     "data": {
      "text/plain": [
       "count    318.000000\n",
       "mean     303.644654\n",
       "std       65.179995\n",
       "min       88.000000\n",
       "25%      261.000000\n",
       "50%      310.000000\n",
       "75%      350.000000\n",
       "max      485.000000\n",
       "Name: score, dtype: float64"
      ]
     },
     "execution_count": 4,
     "metadata": {},
     "output_type": "execute_result"
    }
   ],
   "source": [
    "students_df[\"score\"].describe()"
   ]
  },
  {
   "cell_type": "code",
   "execution_count": 5,
   "id": "87fa8bf2-8067-43fd-9f0b-c6ab52d80abc",
   "metadata": {
    "tags": []
   },
   "outputs": [
    {
     "data": {
      "text/plain": [
       "<AxesSubplot:>"
      ]
     },
     "execution_count": 5,
     "metadata": {},
     "output_type": "execute_result"
    },
    {
     "data": {
      "image/png": "[encoded data removed]",
      "text/plain": [
       "<Figure size 640x480 with 1 Axes>"
      ]
     },
     "metadata": {},
     "output_type": "display_data"
    }
   ],
   "source": [
    "students_df[\"score\"].hist()"
   ]
  },
  {
   "cell_type": "code",
   "execution_count": 6,
   "id": "243aca67-b5e4-4290-bc64-dca0221c0ea9",
   "metadata": {
    "tags": []
   },
   "outputs": [
    {
     "data": {
      "text/plain": [
       "0    160\n",
       "1    158\n",
       "Name: gender, dtype: int64"
      ]
     },
     "execution_count": 6,
     "metadata": {},
     "output_type": "execute_result"
    }
   ],
   "source": [
    "students_df[\"gender\"].value_counts()"
   ]
  },
  {
   "cell_type": "code",
   "execution_count": 7,
   "id": "f3047783-26e9-46c6-b45c-bb0b2d666eee",
   "metadata": {
    "tags": []
   },
   "outputs": [
    {
     "data": {
      "text/plain": [
       "0    301\n",
       "1     17\n",
       "Name: leader_flag, dtype: int64"
      ]
     },
     "execution_count": 7,
     "metadata": {},
     "output_type": "execute_result"
    }
   ],
   "source": [
    "students_df[\"leader_flag\"].value_counts()"
   ]
  },
  {
   "cell_type": "code",
   "execution_count": 8,
   "id": "45a02f09-eeef-4d0d-b50f-737e6a38d6dd",
   "metadata": {
    "tags": []
   },
   "outputs": [
    {
     "data": {
      "text/plain": [
       "0    314\n",
       "1      4\n",
       "Name: support_flag, dtype: int64"
      ]
     },
     "execution_count": 8,
     "metadata": {},
     "output_type": "execute_result"
    }
   ],
   "source": [
    "students_df[\"support_flag\"].value_counts()"
   ]
  },
  {
   "cell_type": "markdown",
   "id": "9c14ab65-4549-4e42-a02f-83bf56dd89d5",
   "metadata": {},
   "source": [
    "##### 生徒内で考慮が必要な特定ペア情報の確認"
   ]
  },
  {
   "cell_type": "code",
   "execution_count": 9,
   "id": "a5518f33-c3e7-492d-a3e5-aa47673c9689",
   "metadata": {
    "tags": []
   },
   "outputs": [
    {
     "data": {
      "text/html": [
       "<div>\n",
       "<style scoped>\n",
       "    .dataframe tbody tr th:only-of-type {\n",
       "        vertical-align: middle;\n",
       "    }\n",
       "\n",
       "    .dataframe tbody tr th {\n",
       "        vertical-align: top;\n",
       "    }\n",
       "\n",
       "    .dataframe thead th {\n",
       "        text-align: right;\n",
       "    }\n",
       "</style>\n",
       "<table border=\"1\" class=\"dataframe\">\n",
       "  <thead>\n",
       "    <tr style=\"text-align: right;\">\n",
       "      <th></th>\n",
       "      <th>student_id1</th>\n",
       "      <th>student_id2</th>\n",
       "    </tr>\n",
       "  </thead>\n",
       "  <tbody>\n",
       "    <tr>\n",
       "      <th>0</th>\n",
       "      <td>118</td>\n",
       "      <td>189</td>\n",
       "    </tr>\n",
       "    <tr>\n",
       "      <th>1</th>\n",
       "      <td>72</td>\n",
       "      <td>50</td>\n",
       "    </tr>\n",
       "    <tr>\n",
       "      <th>2</th>\n",
       "      <td>314</td>\n",
       "      <td>233</td>\n",
       "    </tr>\n",
       "  </tbody>\n",
       "</table>\n",
       "</div>"
      ],
      "text/plain": [
       "   student_id1  student_id2\n",
       "0          118          189\n",
       "1           72           50\n",
       "2          314          233"
      ]
     },
     "execution_count": 9,
     "metadata": {},
     "output_type": "execute_result"
    }
   ],
   "source": [
    "students_pair_df = pd.read_csv(\"./data/student_pairs.csv\")\n",
    "students_pair_df"
   ]
  },
  {
   "cell_type": "markdown",
   "id": "76326b2e-a5d5-4c4b-b666-2716637b30f8",
   "metadata": {},
   "source": [
    "## 3. 最適化問題の定義"
   ]
  },
  {
   "cell_type": "code",
   "execution_count": 10,
   "id": "fb8bd318-4bd5-4a04-bf82-6e835f2621dd",
   "metadata": {
    "tags": []
   },
   "outputs": [],
   "source": [
    "import pulp"
   ]
  },
  {
   "cell_type": "code",
   "execution_count": 11,
   "id": "bc904dbd-a490-49a1-bb12-5e973f5d8cfc",
   "metadata": {
    "tags": []
   },
   "outputs": [],
   "source": [
    "problem = pulp.LpProblem(\"ClassAssignmentProblem\", pulp.LpMaximize)"
   ]
  },
  {
   "cell_type": "markdown",
   "id": "18e8c9e9-f573-4442-982f-4aa04e8f4e64",
   "metadata": {},
   "source": [
    "#### 3-1. 最適化要件１：318人の生徒全員をそれぞれ1つのクラスに割り当てる\n",
    " - 生徒のリスト$S$, クラスのリスト$C$とする。\n",
    " - 生徒$s(\\in S)$がクラス$c(\\in C)$に割り当てられるかどうかを表す変数$x_{s,c}$\n",
    "   $$\n",
    "   x_{s,c} = \\left\\{\n",
    "   \\begin{array}{ll}\n",
    "   1 & (\\text{allocated}) \\\\ \n",
    "   0 & (\\text{not allocated})\n",
    "   \\end{array}\n",
    "   \\right.\n",
    "   $$\n",
    " - 各クラスへ割り当てられる\n",
    "   $$ \\sum_{c\\in C} x_{s,c} = 1$$\n"
   ]
  },
  {
   "cell_type": "code",
   "execution_count": 12,
   "id": "04d2af70-6091-4f8e-a0a7-9f4e0d3a0bad",
   "metadata": {
    "tags": []
   },
   "outputs": [
    {
     "data": {
      "text/plain": [
       "[0, 1, 2, 3, 4, 5, 6, 7]"
      ]
     },
     "execution_count": 12,
     "metadata": {},
     "output_type": "execute_result"
    }
   ],
   "source": [
    "num_of_class = 8\n",
    "class_list = [c for c in range(num_of_class)]\n",
    "class_list"
   ]
  },
  {
   "cell_type": "code",
   "execution_count": 13,
   "id": "dac1c8c6-637c-4793-b6de-315a4da72eaf",
   "metadata": {
    "tags": []
   },
   "outputs": [],
   "source": [
    "students_list = students_df[\"student_id\"].to_list()\n",
    "# students_list"
   ]
  },
  {
   "cell_type": "code",
   "execution_count": 14,
   "id": "e7ca92ee-a41a-41ab-a513-ccf2f3ab0b48",
   "metadata": {
    "tags": []
   },
   "outputs": [],
   "source": [
    "# 生徒とクラスの全ペアのリスト\n",
    "all_class_students_pair = [(s,c) for s in students_list for c in class_list]\n",
    "# all_class_students_pair\n",
    "\n",
    "# 生徒をどのクラスに割り当てるかを表す変数を定義\n",
    "x = pulp.LpVariable.dicts(\"x\",all_class_students_pair, cat=\"Binary\")\n",
    "# x\n",
    "# {(1, 0): x_(1,_0),\n",
    "#  (1, 1): x_(1,_1),\n",
    "#  (1, 2): x_(1,_2),\n",
    "#  (1, 3): x_(1,_3),\n",
    "#  (1, 4): x_(1,_4),...}"
   ]
  },
  {
   "cell_type": "code",
   "execution_count": 15,
   "id": "a0d2ff27-9869-482d-8edc-e5ec5732644e",
   "metadata": {
    "tags": []
   },
   "outputs": [],
   "source": [
    "# 最適化要件１の実装\n",
    "for s in students_list:\n",
    "    problem += pulp.lpSum([x[s,c] for c in class_list]) == 1"
   ]
  },
  {
   "cell_type": "markdown",
   "id": "1e0d8c19-9639-43b1-aa59-6bb1cf959776",
   "metadata": {},
   "source": [
    "#### 3-2. 最適化要件２：各クラスの生徒数は39人以上、40人以下とする\n",
    " - 生徒のリスト$S$, クラスのリスト$C$とする\n",
    " - 生徒$s(\\in S)$がクラス$c(\\in C)$に割り当てられるかどうかを表す変数$x_{s,c}$\n",
    " - 満たすべき条件式：\n",
    "    $$ \\sum_{s \\in S} x_{s,c} >= 39$$\n",
    "    $$ \\sum_{s \\in S} x_{s,c} <= 40$$"
   ]
  },
  {
   "cell_type": "code",
   "execution_count": 16,
   "id": "972c6fd4-7e43-4233-b0fd-7971cfe1d18b",
   "metadata": {
    "tags": []
   },
   "outputs": [],
   "source": [
    "#最適化要件２の実装\n",
    "for c in class_list:\n",
    "    problem += pulp.lpSum([x[s,c] for s in students_list]) >= 39\n",
    "    problem += pulp.lpSum([x[s,c] for s in students_list]) <= 40"
   ]
  },
  {
   "cell_type": "markdown",
   "id": "153027b3-1cd9-4a8c-a5cc-4d73aa7d1e63",
   "metadata": {},
   "source": [
    "#### 3-3. 最適化要件３：各クラスの男子、女子生徒の人数はそれぞれ20人以下とする\n",
    " - 生徒のリスト$S$, クラスのリスト$C$とする\n",
    " - 男子生徒のリスト$S_{\\text{male}}$, 女子生徒のリスト$S_{\\text{female}}$とする。\n",
    " - 生徒$s(\\in S)$がクラス$c(\\in C)$に割り当てられるかどうかを表す変数$x_{s,c}$が満たすべき条件式\n",
    "   $$ \\sum_{s \\in S_{\\text{male}}} x_{s,c} <= 20$$\n",
    "   $$ \\sum_{s \\in S_{\\text{female}}} x_{s,c} <= 20$$"
   ]
  },
  {
   "cell_type": "code",
   "execution_count": 17,
   "id": "5e256287-a241-44c7-930b-5e841e434979",
   "metadata": {
    "tags": []
   },
   "outputs": [
    {
     "name": "stdout",
     "output_type": "stream",
     "text": [
      "num of male:158\n"
     ]
    }
   ],
   "source": [
    "male_df = students_df[students_df[\"gender\"] == 1]\n",
    "male_list = male_df[\"student_id\"].to_list()\n",
    "print(f\"num of male:{len(male_list)}\")"
   ]
  },
  {
   "cell_type": "code",
   "execution_count": 18,
   "id": "2b424a60-855c-4c8d-9e2d-097f0416549b",
   "metadata": {
    "tags": []
   },
   "outputs": [
    {
     "name": "stdout",
     "output_type": "stream",
     "text": [
      "num of female:160\n"
     ]
    }
   ],
   "source": [
    "female_df = students_df[students_df[\"gender\"] == 0]\n",
    "female_list = female_df[\"student_id\"].to_list()\n",
    "print(f\"num of female:{len(female_list)}\")"
   ]
  },
  {
   "cell_type": "code",
   "execution_count": 19,
   "id": "0d51330f-1a81-4351-abb8-51650ca4b571",
   "metadata": {
    "tags": []
   },
   "outputs": [],
   "source": [
    "#最適化要件３の実装\n",
    "for c in class_list:\n",
    "    problem += pulp.lpSum([x[ms,c] for ms in male_list]) <= 20\n",
    "    problem += pulp.lpSum([x[fs,c] for fs in female_list]) <= 20"
   ]
  },
  {
   "cell_type": "markdown",
   "id": "ef8b1437-1b38-43f8-8aef-9d77a20765c3",
   "metadata": {},
   "source": [
    "#### 3-4. 最適化要件４：各クラスの学力試験の平均点は学年平均点±10点とする\n",
    " - 生徒のリスト$S$, クラスのリスト$C$\n",
    " - 生徒$s(\\in S)$がクラス$c(\\in C)$に割り当てられるかどうかを表す変数$x_{s,c}$\n",
    " - 生徒$s(\\in S)$の学力試験の点数$p_{s}$, 学年の平均点$p_{mean}$\n",
    " - 満たすべき条件式\n",
    "   $$ \\frac{\\sum_{s \\in S} p_{s} x_{s, c}}{\\sum_{s \\in S} x_{s,c}} >= (p_{mean} - 10) $$\n",
    "   $$ \\frac{\\sum_{s \\in S} p_{s} x_{s, c}}{\\sum_{s \\in S} x_{s,c}} <= (p_{mean} + 10) $$"
   ]
  },
  {
   "cell_type": "markdown",
   "id": "73fc0210-a339-413d-9449-25f818e2a0c3",
   "metadata": {},
   "source": [
    "ただし、満たすべき条件式が非線形の式となっており、使える最適化ソルバが限定されると同時に、解くことができるサイズが限定される。そのため、条件式を次のように変形して線形最適化問題に落とし込む。\n",
    "\n",
    " - 満たすべき条件式\n",
    "   $$ \\sum_{s \\in S} p_{s} x_{s, c} >= (p_{mean} - 10) * \\sum_{s \\in S} x_{s,c}$$\n",
    "   $$ \\sum_{s \\in S} p_{s} x_{s, c} <= (p_{mean} + 10) * \\sum_{s \\in S} x_{s,c}$$\n",
    " "
   ]
  },
  {
   "cell_type": "code",
   "execution_count": 20,
   "id": "f84ac31b-0f30-4385-97bc-fbbe0d66f2f2",
   "metadata": {
    "tags": []
   },
   "outputs": [
    {
     "name": "stdout",
     "output_type": "stream",
     "text": [
      "Mean scoer of students:303.6446540880503\n"
     ]
    }
   ],
   "source": [
    "# 最適化要件４の実装\n",
    "p_mean = students_df[\"score\"].mean()\n",
    "print(f\"Mean scoer of students:{p_mean}\")\n",
    "score_dict = {row.student_id:row.score for row in students_df.itertuples()}\n",
    "# print(score_list)\n",
    "for c in class_list:\n",
    "    problem += pulp.lpSum([score_dict[s] * x[s,c] for s in students_list]) >= (p_mean - 10) * pulp.lpSum([x[s,c] for s in students_list])\n",
    "    problem += pulp.lpSum([score_dict[s] * x[s,c] for s in students_list]) <= (p_mean + 10) * pulp.lpSum([x[s,c] for s in students_list])"
   ]
  },
  {
   "cell_type": "markdown",
   "id": "a34d786e-fd50-47a8-a152-6c758b710c43",
   "metadata": {
    "tags": []
   },
   "source": [
    "#### 3-5. 最適化要件５：各クラスにリーダー気質の生徒を2人以上割り当てる\n",
    " - リーダー気質の生徒リスト$S_{\\text{leader}}$\n",
    " - 生徒$s(\\in S)$がクラス$c(\\in C)$に割り当てられるかどうかを表す変数$x_{s,c}$\n",
    " - 満たすべき条件式\n",
    "   $$\\sum_{s \\in S_{\\text{leader}}} x_{s,c} >= 2$$"
   ]
  },
  {
   "cell_type": "code",
   "execution_count": 21,
   "id": "12ae52a2-83d8-4060-a8f8-0ebea4c44394",
   "metadata": {
    "tags": []
   },
   "outputs": [
    {
     "name": "stdout",
     "output_type": "stream",
     "text": [
      "17\n"
     ]
    },
    {
     "data": {
      "text/plain": [
       "[13, 28, 42, 74, 86, 88, 121, 138, 160, 184, 188, 220, 228, 248, 277, 284, 309]"
      ]
     },
     "execution_count": 21,
     "metadata": {},
     "output_type": "execute_result"
    }
   ],
   "source": [
    "# リーダー気質の生徒のリスト作成\n",
    "leader_list = [row.student_id for row in students_df.itertuples() if row.leader_flag==1 ]\n",
    "print(len(leader_list))\n",
    "leader_list"
   ]
  },
  {
   "cell_type": "code",
   "execution_count": 22,
   "id": "0aefcf10-7c26-4997-ab07-506494e6fea3",
   "metadata": {
    "tags": []
   },
   "outputs": [],
   "source": [
    "# 最適化要件５の実装\n",
    "for c in class_list:\n",
    "    problem += pulp.lpSum([x[s,c] for s in leader_list]) >= 2"
   ]
  },
  {
   "cell_type": "markdown",
   "id": "23450f88-cb89-4c4b-bbf0-e21fab4dfcf2",
   "metadata": {},
   "source": [
    "#### 3-6. 最適化要件６：特別な支援が必要な生徒は各クラスに1人以下とする\n",
    " - 特別な支援が必要な生徒のリスト$S_{\\text{support}}$\n",
    " - 生徒$s(\\in S)$がクラス$c(\\in C)$に割り当てられるかどうかを表す変数$x_{s,c}$\n",
    " - 満たすべき条件式\n",
    "   $$\\sum_{s \\in S_{\\text{support}}} x_{s,c} <= 1$$"
   ]
  },
  {
   "cell_type": "code",
   "execution_count": 23,
   "id": "e925588f-1bb0-410b-b847-1710aff3b8b0",
   "metadata": {
    "tags": []
   },
   "outputs": [
    {
     "name": "stdout",
     "output_type": "stream",
     "text": [
      "4\n"
     ]
    },
    {
     "data": {
      "text/plain": [
       "[27, 78, 263, 280]"
      ]
     },
     "execution_count": 23,
     "metadata": {},
     "output_type": "execute_result"
    }
   ],
   "source": [
    "support_list = [row.student_id for row in students_df.itertuples() if row.support_flag == 1]\n",
    "print(len(support_list))\n",
    "support_list"
   ]
  },
  {
   "cell_type": "code",
   "execution_count": 24,
   "id": "ff55ead1-44dc-4227-a985-4fd4f8686333",
   "metadata": {
    "tags": []
   },
   "outputs": [],
   "source": [
    "# 最適化要件６の実装\n",
    "for c in class_list:\n",
    "    problem += pulp.lpSum([x[s,c] for s in support_list]) <= 1"
   ]
  },
  {
   "cell_type": "markdown",
   "id": "f5df0109-3007-4e00-8673-2ca395322217",
   "metadata": {},
   "source": [
    "#### 3-7. 最適化要件７：特定ペアの生徒は同一クラスに割り当てないように配慮する\n",
    " - 特定ペアの生徒リスト$S_{\\text{special}}$\n",
    " - 生徒$s(\\in S)$がクラス$c(\\in C)$に割り当てられるかどうかを表す変数$x_{s,c}$\n",
    " - 満たすべき条件式\n",
    "   $$x_{s1,c} + x_{s2, c} <= 1 \\ \\ ((s1, s2) \\in S_{\\text{special}})$$"
   ]
  },
  {
   "cell_type": "code",
   "execution_count": 25,
   "id": "063152f7-f7c0-41cb-b2c8-1af361648a58",
   "metadata": {
    "tags": []
   },
   "outputs": [
    {
     "data": {
      "text/plain": [
       "[(118, 189), (72, 50), (314, 233)]"
      ]
     },
     "execution_count": 25,
     "metadata": {},
     "output_type": "execute_result"
    }
   ],
   "source": [
    "# students_pair_df[\"student_id1\"]\n",
    "students_pair_tuple_list = [(row.student_id1, row.student_id2) for row in students_pair_df.itertuples()]\n",
    "students_pair_tuple_list"
   ]
  },
  {
   "cell_type": "code",
   "execution_count": 26,
   "id": "0c3fc703-81b9-4430-9f6a-8424421e5587",
   "metadata": {
    "tags": []
   },
   "outputs": [],
   "source": [
    "# 最適化要件７の実装\n",
    "for s1, s2 in students_pair_tuple_list:\n",
    "    for c in class_list:\n",
    "        problem += pulp.lpSum([x[s1,c], x[s2,c]]) <= 1"
   ]
  },
  {
   "cell_type": "code",
   "execution_count": 27,
   "id": "3580449c-e7e3-41f7-acd9-3c96a78d885d",
   "metadata": {
    "tags": []
   },
   "outputs": [],
   "source": [
    "# print(problem)"
   ]
  },
  {
   "cell_type": "markdown",
   "id": "4d412e7a-4803-4079-8ebc-12c25766e5ad",
   "metadata": {},
   "source": [
    "#### 3-8. 最適化問題の求解"
   ]
  },
  {
   "cell_type": "code",
   "execution_count": 28,
   "id": "95fe800f-6c8a-4815-b1f9-fb9e730ecb97",
   "metadata": {
    "tags": []
   },
   "outputs": [
    {
     "name": "stdout",
     "output_type": "stream",
     "text": [
      "Welcome to the CBC MILP Solver \n",
      "Version: 2.9.0 \n",
      "Build Date: Feb 12 2015 \n",
      "\n",
      "command line - /home/ren-ito/anaconda3/envs/numerical-optimizaion-env/lib/python3.8/site-packages/pulp/apis/../solverdir/cbc/linux/64/cbc /tmp/453138ba7fe3407e9a37c763d0d84dad-pulp.mps max branch printingOptions all solution /tmp/453138ba7fe3407e9a37c763d0d84dad-pulp.sol (default strategy 1)\n",
      "At line 2 NAME          MODEL\n",
      "At line 3 ROWS\n",
      "At line 411 COLUMNS\n",
      "At line 20981 RHS\n",
      "At line 21388 BOUNDS\n",
      "At line 23934 ENDATA\n",
      "Problem MODEL has 406 rows, 2545 columns and 15480 elements\n",
      "Coin0008I MODEL read with 0 errors\n",
      "Continuous objective value is 0 - 0.09 seconds\n",
      "Cgl0005I 318 SOS with 2544 members\n",
      "Cgl0004I processed model has 398 rows, 2544 columns (2544 integer (2544 of which binary)) and 12936 elements\n",
      "Cbc0038I Initial state - 34 integers unsatisfied sum - 7.56665\n",
      "Cbc0038I Pass   1: suminf.    0.51447 (8) obj. 0 iterations 369\n",
      "Cbc0038I Pass   2: suminf.    0.77241 (4) obj. 0 iterations 498\n",
      "Cbc0038I Solution found of 0\n",
      "Cbc0038I Before mini branch and bound, 2526 integers at bound fixed and 0 continuous\n",
      "Cbc0038I Mini branch and bound did not improve solution (0.14 seconds)\n",
      "Cbc0038I After 0.14 seconds - Feasibility pump exiting with objective of 0 - took 0.03 seconds\n",
      "Cbc0012I Integer solution of 0 found by feasibility pump after 0 iterations and 0 nodes (0.14 seconds)\n",
      "Cbc0001I Search completed - best objective 0, took 0 iterations and 0 nodes (0.14 seconds)\n",
      "Cbc0035I Maximum depth 0, 0 variables fixed on reduced cost\n",
      "Cuts at root node changed objective from 0 to 0\n",
      "Probing was tried 0 times and created 0 cuts of which 0 were active after adding rounds of cuts (0.000 seconds)\n",
      "Gomory was tried 0 times and created 0 cuts of which 0 were active after adding rounds of cuts (0.000 seconds)\n",
      "Knapsack was tried 0 times and created 0 cuts of which 0 were active after adding rounds of cuts (0.000 seconds)\n",
      "Clique was tried 0 times and created 0 cuts of which 0 were active after adding rounds of cuts (0.000 seconds)\n",
      "MixedIntegerRounding2 was tried 0 times and created 0 cuts of which 0 were active after adding rounds of cuts (0.000 seconds)\n",
      "FlowCover was tried 0 times and created 0 cuts of which 0 were active after adding rounds of cuts (0.000 seconds)\n",
      "TwoMirCuts was tried 0 times and created 0 cuts of which 0 were active after adding rounds of cuts (0.000 seconds)\n",
      "\n",
      "Result - Optimal solution found\n",
      "\n",
      "Objective value:                -0.00000000\n",
      "Enumerated nodes:               0\n",
      "Total iterations:               0\n",
      "Time (CPU seconds):             0.15\n",
      "Time (Wallclock seconds):       0.15\n",
      "\n",
      "Option for printingOptions changed from normal to all\n",
      "Total time (CPU seconds):       0.16   (Wallclock seconds):       0.16\n",
      "\n",
      "1\n",
      "Optimal\n"
     ]
    }
   ],
   "source": [
    "status = problem.solve()\n",
    "print(status)\n",
    "print(pulp.LpStatus[status])"
   ]
  },
  {
   "cell_type": "markdown",
   "id": "6128869c-06d0-43d4-878b-d124d55b1266",
   "metadata": {},
   "source": [
    "#### 3-9. 最適化問題の結果の表示"
   ]
  },
  {
   "cell_type": "code",
   "execution_count": 29,
   "id": "5c6b8baf-e9d2-40aa-97b9-86c196f26780",
   "metadata": {
    "tags": []
   },
   "outputs": [
    {
     "name": "stdout",
     "output_type": "stream",
     "text": [
      "Class:0\n",
      "Num:39\n",
      "Students:[2, 9, 19, 39, 42, 63, 65, 71, 79, 83, 85, 88, 99, 109, 111, 123, 126, 136, 138, 145, 148, 165, 168, 173, 177, 179, 180, 193, 199, 206, 224, 233, 240, 246, 264, 267, 291, 292, 298]\n",
      "\n",
      "Class:1\n",
      "Num:40\n",
      "Students:[11, 15, 23, 43, 48, 50, 70, 82, 89, 91, 102, 104, 113, 114, 120, 121, 124, 127, 149, 159, 167, 170, 172, 176, 190, 203, 213, 220, 222, 231, 238, 245, 263, 270, 275, 276, 283, 287, 290, 317]\n",
      "\n",
      "Class:2\n",
      "Num:39\n",
      "Students:[3, 10, 14, 25, 27, 31, 33, 41, 49, 53, 54, 58, 73, 93, 97, 98, 107, 122, 152, 156, 160, 171, 187, 210, 211, 217, 219, 227, 236, 242, 254, 258, 260, 268, 273, 277, 278, 301, 318]\n",
      "\n",
      "Class:3\n",
      "Num:40\n",
      "Students:[13, 16, 36, 37, 51, 56, 59, 61, 67, 68, 75, 84, 87, 92, 108, 128, 139, 140, 142, 146, 158, 161, 175, 183, 192, 198, 205, 221, 225, 235, 241, 252, 255, 256, 257, 261, 266, 284, 293, 316]\n",
      "\n",
      "Class:4\n",
      "Num:40\n",
      "Students:[4, 5, 21, 22, 24, 38, 69, 72, 78, 96, 105, 106, 115, 129, 132, 141, 143, 150, 154, 164, 166, 184, 189, 195, 196, 197, 200, 212, 243, 244, 249, 250, 269, 271, 288, 300, 305, 309, 310, 315]\n",
      "\n",
      "Class:5\n",
      "Num:40\n",
      "Students:[1, 12, 17, 45, 46, 62, 74, 76, 80, 95, 100, 101, 103, 110, 112, 116, 119, 125, 130, 134, 135, 151, 153, 169, 178, 182, 185, 188, 202, 209, 230, 232, 239, 272, 281, 282, 289, 303, 304, 306]\n",
      "\n",
      "Class:6\n",
      "Num:40\n",
      "Students:[7, 18, 28, 32, 35, 44, 52, 55, 57, 60, 64, 66, 81, 117, 118, 131, 147, 155, 181, 186, 194, 204, 207, 208, 214, 215, 216, 223, 226, 228, 229, 262, 265, 279, 280, 296, 299, 308, 312, 313]\n",
      "\n",
      "Class:7\n",
      "Num:40\n",
      "Students:[6, 8, 20, 26, 29, 30, 34, 40, 47, 77, 86, 90, 94, 133, 137, 144, 157, 162, 163, 174, 191, 201, 218, 234, 237, 247, 248, 251, 253, 259, 274, 285, 286, 294, 295, 297, 302, 307, 311, 314]\n",
      "\n"
     ]
    }
   ],
   "source": [
    "student_class_mapping_dict = {}\n",
    "for c in class_list:\n",
    "    student_class_mapping_dict[c] = [s for s in students_list if x[s,c].value() == 1]\n",
    "\n",
    "for c, s in student_class_mapping_dict.items():\n",
    "    print(f\"Class:{c}\")\n",
    "    print(f\"Num:{len(s)}\")\n",
    "    print(f\"Students:{s}\")\n",
    "    print(\"\")"
   ]
  },
  {
   "cell_type": "markdown",
   "id": "7e04a47b-7572-4a70-b71c-61e955e0022d",
   "metadata": {},
   "source": [
    "## 4. 最適化問題の結果の検証"
   ]
  },
  {
   "cell_type": "markdown",
   "id": "3a8278d7-10b2-41a7-a2be-3a6289a286ca",
   "metadata": {},
   "source": [
    "#### 4-1. 最適化要件１の検証\n",
    " - 「318人の生徒全員をそれぞれ1つのクラスに割り当てる」ことが満たされているか検証"
   ]
  },
  {
   "cell_type": "code",
   "execution_count": 36,
   "id": "bcc75566-cd8e-4f30-9ec5-5a0fb64d010a",
   "metadata": {},
   "outputs": [],
   "source": [
    "studentid_class_mapping_dict = {s:c for s in students_list for c in class_list if x[s,c].value()==1}\n",
    "# studentid_class_mapping_dict"
   ]
  },
  {
   "cell_type": "code",
   "execution_count": 42,
   "id": "9042f5ea-ead8-4660-9c2b-0505efd9b2bb",
   "metadata": {},
   "outputs": [
    {
     "data": {
      "text/html": [
       "<div>\n",
       "<style scoped>\n",
       "    .dataframe tbody tr th:only-of-type {\n",
       "        vertical-align: middle;\n",
       "    }\n",
       "\n",
       "    .dataframe tbody tr th {\n",
       "        vertical-align: top;\n",
       "    }\n",
       "\n",
       "    .dataframe thead th {\n",
       "        text-align: right;\n",
       "    }\n",
       "</style>\n",
       "<table border=\"1\" class=\"dataframe\">\n",
       "  <thead>\n",
       "    <tr style=\"text-align: right;\">\n",
       "      <th></th>\n",
       "      <th>0</th>\n",
       "    </tr>\n",
       "  </thead>\n",
       "  <tbody>\n",
       "    <tr>\n",
       "      <th>0</th>\n",
       "      <td>5</td>\n",
       "    </tr>\n",
       "    <tr>\n",
       "      <th>1</th>\n",
       "      <td>0</td>\n",
       "    </tr>\n",
       "    <tr>\n",
       "      <th>2</th>\n",
       "      <td>2</td>\n",
       "    </tr>\n",
       "    <tr>\n",
       "      <th>3</th>\n",
       "      <td>4</td>\n",
       "    </tr>\n",
       "    <tr>\n",
       "      <th>4</th>\n",
       "      <td>4</td>\n",
       "    </tr>\n",
       "    <tr>\n",
       "      <th>...</th>\n",
       "      <td>...</td>\n",
       "    </tr>\n",
       "    <tr>\n",
       "      <th>313</th>\n",
       "      <td>7</td>\n",
       "    </tr>\n",
       "    <tr>\n",
       "      <th>314</th>\n",
       "      <td>4</td>\n",
       "    </tr>\n",
       "    <tr>\n",
       "      <th>315</th>\n",
       "      <td>3</td>\n",
       "    </tr>\n",
       "    <tr>\n",
       "      <th>316</th>\n",
       "      <td>1</td>\n",
       "    </tr>\n",
       "    <tr>\n",
       "      <th>317</th>\n",
       "      <td>2</td>\n",
       "    </tr>\n",
       "  </tbody>\n",
       "</table>\n",
       "<p>318 rows × 1 columns</p>\n",
       "</div>"
      ],
      "text/plain": [
       "     0\n",
       "0    5\n",
       "1    0\n",
       "2    2\n",
       "3    4\n",
       "4    4\n",
       "..  ..\n",
       "313  7\n",
       "314  4\n",
       "315  3\n",
       "316  1\n",
       "317  2\n",
       "\n",
       "[318 rows x 1 columns]"
      ]
     },
     "execution_count": 42,
     "metadata": {},
     "output_type": "execute_result"
    }
   ],
   "source": [
    "result_df = pd.DataFrame.from_dict(studentid_class_mapping_dict.values())\n",
    "result_df"
   ]
  },
  {
   "cell_type": "code",
   "execution_count": 46,
   "id": "1fcc0c32-ed15-4830-9ef8-989a7acba647",
   "metadata": {},
   "outputs": [
    {
     "data": {
      "text/plain": [
       "(318, 1)"
      ]
     },
     "execution_count": 46,
     "metadata": {},
     "output_type": "execute_result"
    }
   ],
   "source": [
    "result_df.shape"
   ]
  },
  {
   "cell_type": "code",
   "execution_count": 62,
   "id": "2748f9aa-04d2-417b-8948-eee907ab3eb4",
   "metadata": {},
   "outputs": [
    {
     "data": {
      "text/plain": [
       "0    False\n",
       "dtype: bool"
      ]
     },
     "execution_count": 62,
     "metadata": {},
     "output_type": "execute_result"
    }
   ],
   "source": [
    "result_df.isnull().any()"
   ]
  },
  {
   "cell_type": "code",
   "execution_count": 63,
   "id": "4f04d253-02a9-448c-ab79-5ec0744cbb7a",
   "metadata": {},
   "outputs": [
    {
     "data": {
      "text/plain": [
       "0"
      ]
     },
     "execution_count": 63,
     "metadata": {},
     "output_type": "execute_result"
    }
   ],
   "source": [
    "result_df.isnull().any().sum()"
   ]
  },
  {
   "cell_type": "code",
   "execution_count": 43,
   "id": "f51fad19-5fa8-4709-9bf5-ab41dd1f096d",
   "metadata": {
    "tags": []
   },
   "outputs": [
    {
     "data": {
      "text/html": [
       "<div>\n",
       "<style scoped>\n",
       "    .dataframe tbody tr th:only-of-type {\n",
       "        vertical-align: middle;\n",
       "    }\n",
       "\n",
       "    .dataframe tbody tr th {\n",
       "        vertical-align: top;\n",
       "    }\n",
       "\n",
       "    .dataframe thead th {\n",
       "        text-align: right;\n",
       "    }\n",
       "</style>\n",
       "<table border=\"1\" class=\"dataframe\">\n",
       "  <thead>\n",
       "    <tr style=\"text-align: right;\">\n",
       "      <th></th>\n",
       "      <th>student_id</th>\n",
       "      <th>gender</th>\n",
       "      <th>leader_flag</th>\n",
       "      <th>support_flag</th>\n",
       "      <th>score</th>\n",
       "      <th>class</th>\n",
       "    </tr>\n",
       "  </thead>\n",
       "  <tbody>\n",
       "    <tr>\n",
       "      <th>0</th>\n",
       "      <td>1</td>\n",
       "      <td>0</td>\n",
       "      <td>0</td>\n",
       "      <td>0</td>\n",
       "      <td>335</td>\n",
       "      <td>5</td>\n",
       "    </tr>\n",
       "    <tr>\n",
       "      <th>1</th>\n",
       "      <td>2</td>\n",
       "      <td>1</td>\n",
       "      <td>0</td>\n",
       "      <td>0</td>\n",
       "      <td>379</td>\n",
       "      <td>0</td>\n",
       "    </tr>\n",
       "    <tr>\n",
       "      <th>2</th>\n",
       "      <td>3</td>\n",
       "      <td>0</td>\n",
       "      <td>0</td>\n",
       "      <td>0</td>\n",
       "      <td>350</td>\n",
       "      <td>2</td>\n",
       "    </tr>\n",
       "    <tr>\n",
       "      <th>3</th>\n",
       "      <td>4</td>\n",
       "      <td>0</td>\n",
       "      <td>0</td>\n",
       "      <td>0</td>\n",
       "      <td>301</td>\n",
       "      <td>4</td>\n",
       "    </tr>\n",
       "    <tr>\n",
       "      <th>4</th>\n",
       "      <td>5</td>\n",
       "      <td>1</td>\n",
       "      <td>0</td>\n",
       "      <td>0</td>\n",
       "      <td>317</td>\n",
       "      <td>4</td>\n",
       "    </tr>\n",
       "    <tr>\n",
       "      <th>...</th>\n",
       "      <td>...</td>\n",
       "      <td>...</td>\n",
       "      <td>...</td>\n",
       "      <td>...</td>\n",
       "      <td>...</td>\n",
       "      <td>...</td>\n",
       "    </tr>\n",
       "    <tr>\n",
       "      <th>313</th>\n",
       "      <td>314</td>\n",
       "      <td>0</td>\n",
       "      <td>0</td>\n",
       "      <td>0</td>\n",
       "      <td>244</td>\n",
       "      <td>7</td>\n",
       "    </tr>\n",
       "    <tr>\n",
       "      <th>314</th>\n",
       "      <td>315</td>\n",
       "      <td>1</td>\n",
       "      <td>0</td>\n",
       "      <td>0</td>\n",
       "      <td>309</td>\n",
       "      <td>4</td>\n",
       "    </tr>\n",
       "    <tr>\n",
       "      <th>315</th>\n",
       "      <td>316</td>\n",
       "      <td>0</td>\n",
       "      <td>0</td>\n",
       "      <td>0</td>\n",
       "      <td>239</td>\n",
       "      <td>3</td>\n",
       "    </tr>\n",
       "    <tr>\n",
       "      <th>316</th>\n",
       "      <td>317</td>\n",
       "      <td>1</td>\n",
       "      <td>0</td>\n",
       "      <td>0</td>\n",
       "      <td>356</td>\n",
       "      <td>1</td>\n",
       "    </tr>\n",
       "    <tr>\n",
       "      <th>317</th>\n",
       "      <td>318</td>\n",
       "      <td>0</td>\n",
       "      <td>0</td>\n",
       "      <td>0</td>\n",
       "      <td>256</td>\n",
       "      <td>2</td>\n",
       "    </tr>\n",
       "  </tbody>\n",
       "</table>\n",
       "<p>318 rows × 6 columns</p>\n",
       "</div>"
      ],
      "text/plain": [
       "     student_id  gender  leader_flag  support_flag  score  class\n",
       "0             1       0            0             0    335      5\n",
       "1             2       1            0             0    379      0\n",
       "2             3       0            0             0    350      2\n",
       "3             4       0            0             0    301      4\n",
       "4             5       1            0             0    317      4\n",
       "..          ...     ...          ...           ...    ...    ...\n",
       "313         314       0            0             0    244      7\n",
       "314         315       1            0             0    309      4\n",
       "315         316       0            0             0    239      3\n",
       "316         317       1            0             0    356      1\n",
       "317         318       0            0             0    256      2\n",
       "\n",
       "[318 rows x 6 columns]"
      ]
     },
     "execution_count": 43,
     "metadata": {},
     "output_type": "execute_result"
    }
   ],
   "source": [
    "students_result_df = students_df.copy()\n",
    "students_result_df[\"class\"] =result_df\n",
    "students_result_df"
   ]
  },
  {
   "cell_type": "markdown",
   "id": "3e2f4374-b467-4a99-9b5a-f4cf5d0a4ff9",
   "metadata": {},
   "source": [
    "このdfが問題なく作られており、class列のdfにNoneがないということは1人に1つのクラスが割り当てられていることの確認ができた、ということを意味している。"
   ]
  },
  {
   "cell_type": "markdown",
   "id": "ecd8be7c-832b-4804-8365-60cf23d3946d",
   "metadata": {},
   "source": [
    "#### 4-2. 最適化要件２の検証\n",
    " - 「各クラスの生徒数は39人以上、40人以下とする」ことが満たされているか検証"
   ]
  },
  {
   "cell_type": "code",
   "execution_count": 68,
   "id": "b8f65cd2-9c08-44bd-8145-c2697c2f22ef",
   "metadata": {},
   "outputs": [
    {
     "name": "stdout",
     "output_type": "stream",
     "text": [
      "Check the number of students in each class...\n",
      "class:0\n",
      "Allocated results:39\n",
      "OK\n",
      "\n",
      "class:1\n",
      "Allocated results:40\n",
      "OK\n",
      "\n",
      "class:2\n",
      "Allocated results:39\n",
      "OK\n",
      "\n",
      "class:3\n",
      "Allocated results:40\n",
      "OK\n",
      "\n",
      "class:4\n",
      "Allocated results:40\n",
      "OK\n",
      "\n",
      "class:5\n",
      "Allocated results:40\n",
      "OK\n",
      "\n",
      "class:6\n",
      "Allocated results:40\n",
      "OK\n",
      "\n",
      "class:7\n",
      "Allocated results:40\n",
      "OK\n",
      "\n"
     ]
    }
   ],
   "source": [
    "print(\"Check the number of students in each class...\")\n",
    "for c, s in student_class_mapping_dict.items():\n",
    "    print(f\"class:{c}\")\n",
    "    print(f\"Allocated results:{len(s)}\")\n",
    "    if len(s) < 39 or len(s) > 40:\n",
    "        print(f\"Error!!:: class {c} is allocated more or less allocated number of students than expected\")\n",
    "    else:\n",
    "        print(\"OK\")\n",
    "    print(\"\")"
   ]
  },
  {
   "cell_type": "markdown",
   "id": "099bf92e-d8bd-48d5-ade1-c0a377e32d68",
   "metadata": {},
   "source": [
    "#### 4-3.最適化要件３の検証\n",
    " - 「各クラスの男子、女子生徒の人数はそれぞれ20人以下とする」ことが満たされていることの検証"
   ]
  },
  {
   "cell_type": "code",
   "execution_count": 77,
   "id": "7b33f48b-36e0-4892-9ac9-9ead209613bd",
   "metadata": {},
   "outputs": [
    {
     "name": "stdout",
     "output_type": "stream",
     "text": [
      "Check the number of male and female students in each class...\n",
      "class:0\n",
      "number of male:19\n",
      "number of female:20\n",
      "OK\n",
      "\n",
      "class:1\n",
      "number of male:20\n",
      "number of female:20\n",
      "OK\n",
      "\n",
      "class:2\n",
      "number of male:19\n",
      "number of female:20\n",
      "OK\n",
      "\n",
      "class:3\n",
      "number of male:20\n",
      "number of female:20\n",
      "OK\n",
      "\n",
      "class:4\n",
      "number of male:20\n",
      "number of female:20\n",
      "OK\n",
      "\n",
      "class:5\n",
      "number of male:20\n",
      "number of female:20\n",
      "OK\n",
      "\n",
      "class:6\n",
      "number of male:20\n",
      "number of female:20\n",
      "OK\n",
      "\n",
      "class:7\n",
      "number of male:20\n",
      "number of female:20\n",
      "OK\n",
      "\n"
     ]
    }
   ],
   "source": [
    "print(\"Check the number of male and female students in each class...\")\n",
    "for i in range(num_of_class):\n",
    "    print(f\"class:{i}\")\n",
    "    students_result_class_i_df = students_result_df[students_result_df[\"class\"] == i]\n",
    "    male_students_result_class_i_df = students_result_class_i_df[students_result_class_i_df[\"gender\"] == 1]\n",
    "    female_students_result_class_i_df = students_result_class_i_df[students_result_class_i_df[\"gender\"] == 0]\n",
    "    male_number = len(male_students_result_class_i_df)\n",
    "    female_number = len(female_students_result_class_i_df)\n",
    "    print(f\"number of male:{male_number}\")\n",
    "    print(f\"number of female:{female_number}\")\n",
    "    \n",
    "    if male_number > 20 or female_number > 20:\n",
    "        print(f\"Error!!:: class {i} is allocated more or less number of male or female than expected\")\n",
    "    else:\n",
    "        print(\"OK\")\n",
    "        print(\"\")"
   ]
  },
  {
   "cell_type": "markdown",
   "id": "46b1367d-b495-4271-bed0-bc5cfb1864ba",
   "metadata": {},
   "source": [
    "#### 4-4. 最適化要件４の検証\n",
    " - 「各クラスの学力試験の平均点は学年平均点±10点とする」ことが満たされていることの検証"
   ]
  },
  {
   "cell_type": "code",
   "execution_count": 79,
   "id": "e3d32687-d8f4-4e8a-af6f-17cfd16ca305",
   "metadata": {},
   "outputs": [
    {
     "name": "stdout",
     "output_type": "stream",
     "text": [
      "Check the mean of score in each class...\n",
      "class:0\n",
      "men score:309.0\n",
      "OK\n",
      "\n",
      "class:1\n",
      "men score:295.5\n",
      "OK\n",
      "\n",
      "class:2\n",
      "men score:312.05128205128204\n",
      "OK\n",
      "\n",
      "class:3\n",
      "men score:309.625\n",
      "OK\n",
      "\n",
      "class:4\n",
      "men score:297.175\n",
      "OK\n",
      "\n",
      "class:5\n",
      "men score:294.375\n",
      "OK\n",
      "\n",
      "class:6\n",
      "men score:312.825\n",
      "OK\n",
      "\n",
      "class:7\n",
      "men score:298.95\n",
      "OK\n",
      "\n"
     ]
    }
   ],
   "source": [
    "print(\"Check the mean of score in each class...\")\n",
    "for i in range(num_of_class):\n",
    "    print(f\"class:{i}\")\n",
    "    students_result_class_i_df = students_result_df[students_result_df[\"class\"] == i]\n",
    "    mean_i = students_result_class_i_df[\"score\"].mean()\n",
    "    print(f\"men score:{mean_i}\")\n",
    "    if mean_i < p_mean -10 or mean_i > p_mean + 10:\n",
    "        print(f\"Error!!:: mean score of class {i} less or more than expected\")\n",
    "    else:\n",
    "        print(\"OK\")\n",
    "    print(\"\")"
   ]
  },
  {
   "cell_type": "markdown",
   "id": "2f430e4f-3832-40aa-be59-365bdb72f56c",
   "metadata": {},
   "source": [
    "#### 4-5. 最適化要件５の検証\n",
    " - 「各クラスにリーダー気質の生徒を2人以上割り当てる」ことが満たされていることの検証"
   ]
  },
  {
   "cell_type": "code",
   "execution_count": 88,
   "id": "691e55a3-3a5f-4924-9339-64615464fba5",
   "metadata": {},
   "outputs": [
    {
     "name": "stdout",
     "output_type": "stream",
     "text": [
      "Check the number of students of leader_flag in each class...\n",
      "class:0\n",
      "num_of_leader:3\n",
      "OK\n",
      "\n",
      "class:1\n",
      "num_of_leader:2\n",
      "OK\n",
      "\n",
      "class:2\n",
      "num_of_leader:2\n",
      "OK\n",
      "\n",
      "class:3\n",
      "num_of_leader:2\n",
      "OK\n",
      "\n",
      "class:4\n",
      "num_of_leader:2\n",
      "OK\n",
      "\n",
      "class:5\n",
      "num_of_leader:2\n",
      "OK\n",
      "\n",
      "class:6\n",
      "num_of_leader:2\n",
      "OK\n",
      "\n",
      "class:7\n",
      "num_of_leader:2\n",
      "OK\n",
      "\n"
     ]
    }
   ],
   "source": [
    "print(\"Check the number of students of leader_flag in each class...\")\n",
    "for i in range(num_of_class):\n",
    "    print(f\"class:{i}\")\n",
    "    students_result_class_i_df = students_result_df[students_result_df[\"class\"] == i]\n",
    "    num_of_leader_class_i = students_result_class_i_df[\"leader_flag\"].sum()\n",
    "    print(f\"num_of_leader:{num_of_leader_class_i}\")\n",
    "    if num_of_leader_class_i <2:\n",
    "        print(f\"Error!!:: number of leader candidates in class {i} less or more than expected\")\n",
    "    else:\n",
    "        print(\"OK\")\n",
    "    print(\"\")"
   ]
  },
  {
   "cell_type": "markdown",
   "id": "f3d20622-4972-470f-a4e2-e83e7bde78e7",
   "metadata": {},
   "source": [
    "#### 4-6.最適化要件６の検証\n",
    " - 「特別な支援が必要な生徒は各クラスに1人以下とする」が満たされていることの検証"
   ]
  },
  {
   "cell_type": "code",
   "execution_count": 86,
   "id": "8f6d4b9e-7446-41b4-9b4f-1b9d9d9faf80",
   "metadata": {},
   "outputs": [
    {
     "name": "stdout",
     "output_type": "stream",
     "text": [
      "Check the number of students who needs support by someone...\n",
      "class:0\n",
      "num_of_need_support:0\n",
      "OK\n",
      "\n",
      "class:1\n",
      "num_of_need_support:1\n",
      "OK\n",
      "\n",
      "class:2\n",
      "num_of_need_support:1\n",
      "OK\n",
      "\n",
      "class:3\n",
      "num_of_need_support:0\n",
      "OK\n",
      "\n",
      "class:4\n",
      "num_of_need_support:1\n",
      "OK\n",
      "\n",
      "class:5\n",
      "num_of_need_support:0\n",
      "OK\n",
      "\n",
      "class:6\n",
      "num_of_need_support:1\n",
      "OK\n",
      "\n",
      "class:7\n",
      "num_of_need_support:0\n",
      "OK\n",
      "\n"
     ]
    }
   ],
   "source": [
    "print(\"Check the number of students who needs support by someone...\")\n",
    "for i in range(num_of_class):\n",
    "    print(f\"class:{i}\")\n",
    "    students_result_class_i_df = students_result_df[students_result_df[\"class\"] == i]\n",
    "    num_of_need_support = students_result_class_i_df[\"support_flag\"].sum()\n",
    "    print(f\"num_of_need_support:{num_of_need_support}\")\n",
    "    if num_of_need_support > 1:\n",
    "        print(f\"Error!!:: number of students who needs support by someone in class {i} is more than expected\")\n",
    "    else:\n",
    "        print(\"OK\")\n",
    "    print(\"\")"
   ]
  },
  {
   "cell_type": "markdown",
   "id": "b7c07aef-85ff-44f8-b086-3ee06e2e4bdc",
   "metadata": {},
   "source": [
    "#### 4-7.最適化要件７の検証\n",
    " - 「特定ペアの生徒は同一クラスに割り当てないように配慮する」が満たされていることの検証"
   ]
  },
  {
   "cell_type": "code",
   "execution_count": 144,
   "id": "5fe4a2ee-bbdd-4fcb-a0e7-d4adcafd6af4",
   "metadata": {},
   "outputs": [
    {
     "name": "stdout",
     "output_type": "stream",
     "text": [
      "Check the class of students who are belong in the special pair list...\n",
      "id1:118\n",
      "class_id1:6\n",
      "id2:189\n",
      "class_id2:4\n",
      "OK\n",
      "\n",
      "id1:72\n",
      "class_id1:4\n",
      "id2:50\n",
      "class_id2:1\n",
      "OK\n",
      "\n",
      "id1:314\n",
      "class_id1:7\n",
      "id2:233\n",
      "class_id2:0\n",
      "OK\n",
      "\n"
     ]
    }
   ],
   "source": [
    "print(\"Check the class of students who are belong in the special pair list...\")\n",
    "for row in students_pair_df.itertuples():\n",
    "    id1 = row.student_id1\n",
    "    id2 = row.student_id2\n",
    "    print(f\"id1:{id1}\")\n",
    "    class_id1 = students_result_df.query(f\"student_id=={id1}\")[\"class\"].values[0]\n",
    "    # class_id1 = students_result_df.loc[students_result_df['student_id'] == f'{id1}', 'class'].values[0]\n",
    "    print(f\"class_id1:{class_id1}\")\n",
    "    print(f\"id2:{id2}\")\n",
    "    class_id2 = students_result_df.query(f\"student_id=={id2}\")[\"class\"].values[0]\n",
    "    print(f\"class_id2:{class_id2}\")\n",
    "    \n",
    "    if class_id1 == class_id2:\n",
    "        print(f\"Error!!:: {id1} and {id2} are allocated the same class {class_id1}\")\n",
    "    else:\n",
    "        print(\"OK\")\n",
    "    print(\"\")\n",
    "\n",
    "    "
   ]
  },
  {
   "cell_type": "code",
   "execution_count": null,
   "id": "d56028f8-d2cc-4264-bb7a-5a4f66aa35f6",
   "metadata": {},
   "outputs": [],
   "source": []
  }
 ],
 "metadata": {
  "kernelspec": {
   "display_name": "Python 3 (ipykernel)",
   "language": "python",
   "name": "python3"
  },
  "language_info": {
   "codemirror_mode": {
    "name": "ipython",
    "version": 3
   },
   "file_extension": ".py",
   "mimetype": "text/x-python",
   "name": "python",
   "nbconvert_exporter": "python",
   "pygments_lexer": "ipython3",
   "version": "3.8.18"
  }
 },
 "nbformat": 4,
 "nbformat_minor": 5
}
