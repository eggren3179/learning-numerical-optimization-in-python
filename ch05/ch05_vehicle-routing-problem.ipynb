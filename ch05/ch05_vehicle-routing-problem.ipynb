{
 "cells": [
  {
   "cell_type": "markdown",
   "id": "fde607a3-a128-4931-af02-88fa9c0891ce",
   "metadata": {},
   "source": [
    "# コストを最小化する輸送車両の配送計画最適化問題\n",
    "NP困難な問題をヒューリスティック解法を用いずに混合整数計画問題（MIP）として解く"
   ]
  },
  {
   "cell_type": "markdown",
   "id": "f3137910-dfd6-4090-be04-ed70a7b61262",
   "metadata": {},
   "source": [
    "## １．課題整理 \n",
    "  資材の卸売業の経営者として、配送費用を最小化する際に考慮すべきことは下記のように大別できる。\n",
    "  - 最適化対象期間：計算対象となる期間。今回は、下記を考慮してどの配送をどの日に行うか1か月の日単位の計画立案\n",
    "    - 特定の1日を指定して配送する例\n",
    "    - 複数日からなる期間で指定される例\n",
    "  - 注文関連の要件：顧客からの資材の注文に関して、下記のような要件がある\n",
    "    - 異なる地点にいる顧客から資材の注文が入る\n",
    "    - 最適化期間内に複数の注文をすることが一般的\n",
    "    - 顧客からの注文は指定された期間（特定の1日以内のこともあれば幅のある期間である場合もある）内に配達される必要がある\n",
    "    - 注文ごとに荷物の重さは異なる\n",
    "  - 配送関連の要件：配送に用いる自社トラックの運用に関する要件\n",
    "    - 利用できる自社トラックは、最大積載量4トンのトラック1台\n",
    "    - トラックは毎日自社拠点から出発し、当日の配送先を回って自社拠点に戻ってくる\n",
    "    - 1日8時間までは残業代なしで配送できるが、稼働時間が8時間を超えると残業代が発生し、3000円/hの追加のコストがかかる\n",
    "    - 1人の残業時間は1日3時間を超えてはいけない\n",
    "    - 配送を外部の業者に委託する場合は、注文ごとに荷物の重さに応じた費用（配送の外注費）が掛かる\n",
    "  - 最小化指標\n",
    "    - 配送コストの変動部分（＝「配送の外注費」＋「残業による費用」）を最小化することを目標とする"
   ]
  },
  {
   "cell_type": "markdown",
   "id": "38a0c369-1d5c-4f3c-ab06-35b18bd1fc09",
   "metadata": {},
   "source": [
    "## 2.数理モデリング"
   ]
  },
  {
   "cell_type": "code",
   "execution_count": null,
   "id": "781beb72-fd2e-4d70-b0fb-5715d0b48d8c",
   "metadata": {},
   "outputs": [],
   "source": []
  }
 ],
 "metadata": {
  "kernelspec": {
   "display_name": "Python 3 (ipykernel)",
   "language": "python",
   "name": "python3"
  },
  "language_info": {
   "codemirror_mode": {
    "name": "ipython",
    "version": 3
   },
   "file_extension": ".py",
   "mimetype": "text/x-python",
   "name": "python",
   "nbconvert_exporter": "python",
   "pygments_lexer": "ipython3",
   "version": "3.8.18"
  }
 },
 "nbformat": 4,
 "nbformat_minor": 5
}
