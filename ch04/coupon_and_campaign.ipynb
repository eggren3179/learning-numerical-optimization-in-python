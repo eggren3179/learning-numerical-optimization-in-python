{
 "cells": [
  {
   "cell_type": "markdown",
   "id": "3f802c8e-d77e-4114-a361-9afe480ff1b9",
   "metadata": {},
   "source": [
    "# 割引クーポンキャンペーンの効果最大化"
   ]
  },
  {
   "cell_type": "markdown",
   "id": "12498e8c-a5ca-4ef7-8e92-f04f8767b641",
   "metadata": {},
   "source": [
    "## 1. 問題設定\n",
    "予算とダイレクトメール送付率の制約条件のもとで来客数を最大化する問題を考える"
   ]
  },
  {
   "cell_type": "markdown",
   "id": "d64a6888-8c30-471a-a118-0b4c996ba847",
   "metadata": {
    "tags": []
   },
   "source": [
    "#### 1-1. 前提条件  \n",
    " ‐ 予算は100万円\n",
    " - 雑貨店の会員数は5000人\n",
    " - 全会員に対して次の3種類のいずれかのパターンのダイレクトメールを送付する\n",
    "   1. セールのチラシのみ\n",
    "   2. セールのチラシと1000円のクーポン\n",
    "   3. セールのチラシと2000円のクーポン\n",
    " - 継続的な施策実施のため、次回以降の割引クーポンキャンペーンで利用する来店率のデータを一定数取得するように、「来店傾向を基に会員をグルーピングしたセグメントごとに10％以上ずるダイレクトメールを送付する」という条件を付ける\n",
    " - クーポン付与による来客増加数を最大化したい\n",
    " - 会員情報として下記がある\n",
    "   - 年齢区分\n",
    "   - 昨年度の来店回数区分\n",
    " - 一部会員のアンケート結果を基に、年齢区分と昨年度来店回数区分の組で定義される会員のセグメントに対して、各パターンのダイレクトメールを受け取った際に来店する確率が推定される\n",
    " \n",
    "#### 1-2. 解くべき最適化問題の要件\n",
    " - 要件１：各会員に対してどのパターンのダイレクトメールを送付するか決定\n",
    " - 要件２：送付するダイレクトメールはどれか1パターン\n",
    " - 要件３：来客増加数を最大化する\n",
    " - 要件４：会員の予算消費期待値の合計は100万円以下（予算オーバーを防ぐ）\n",
    " - 要件５：各パターンのダイレクトメールをそれぞれのセグメントに属する会員の10％以上に送付"
   ]
  },
  {
   "cell_type": "markdown",
   "id": "6b11247d-3211-40c0-8caf-24487160c61e",
   "metadata": {},
   "source": [
    "## 2. 必要ライブラリのインポートとデータの理解"
   ]
  },
  {
   "cell_type": "code",
   "execution_count": 1,
   "id": "346d6ccc-07c5-45d0-9bee-9cbe8ef0af30",
   "metadata": {},
   "outputs": [],
   "source": [
    "import numpy as np\n",
    "import pandas as pd\n",
    "import pulp\n",
    "import seaborn as sns\n",
    "import matplotlib.pyplot as plt"
   ]
  },
  {
   "cell_type": "markdown",
   "id": "bd79e91e-4418-430b-b8d5-f5e18dd83fa2",
   "metadata": {},
   "source": [
    "#### 2-1. 顧客情報"
   ]
  },
  {
   "cell_type": "code",
   "execution_count": 2,
   "id": "051bd76a-df6e-4687-b46a-89eadec5897d",
   "metadata": {},
   "outputs": [
    {
     "data": {
      "text/html": [
       "<div>\n",
       "<style scoped>\n",
       "    .dataframe tbody tr th:only-of-type {\n",
       "        vertical-align: middle;\n",
       "    }\n",
       "\n",
       "    .dataframe tbody tr th {\n",
       "        vertical-align: top;\n",
       "    }\n",
       "\n",
       "    .dataframe thead th {\n",
       "        text-align: right;\n",
       "    }\n",
       "</style>\n",
       "<table border=\"1\" class=\"dataframe\">\n",
       "  <thead>\n",
       "    <tr style=\"text-align: right;\">\n",
       "      <th></th>\n",
       "      <th>customer_id</th>\n",
       "      <th>age_cat</th>\n",
       "      <th>freq_cat</th>\n",
       "    </tr>\n",
       "  </thead>\n",
       "  <tbody>\n",
       "    <tr>\n",
       "      <th>0</th>\n",
       "      <td>1</td>\n",
       "      <td>age20~34</td>\n",
       "      <td>freq2</td>\n",
       "    </tr>\n",
       "    <tr>\n",
       "      <th>1</th>\n",
       "      <td>2</td>\n",
       "      <td>age35~49</td>\n",
       "      <td>freq0</td>\n",
       "    </tr>\n",
       "    <tr>\n",
       "      <th>2</th>\n",
       "      <td>3</td>\n",
       "      <td>age35~49</td>\n",
       "      <td>freq0</td>\n",
       "    </tr>\n",
       "    <tr>\n",
       "      <th>3</th>\n",
       "      <td>4</td>\n",
       "      <td>age~19</td>\n",
       "      <td>freq0</td>\n",
       "    </tr>\n",
       "    <tr>\n",
       "      <th>4</th>\n",
       "      <td>5</td>\n",
       "      <td>age35~49</td>\n",
       "      <td>freq0</td>\n",
       "    </tr>\n",
       "    <tr>\n",
       "      <th>...</th>\n",
       "      <td>...</td>\n",
       "      <td>...</td>\n",
       "      <td>...</td>\n",
       "    </tr>\n",
       "    <tr>\n",
       "      <th>4995</th>\n",
       "      <td>4996</td>\n",
       "      <td>age50~</td>\n",
       "      <td>freq0</td>\n",
       "    </tr>\n",
       "    <tr>\n",
       "      <th>4996</th>\n",
       "      <td>4997</td>\n",
       "      <td>age50~</td>\n",
       "      <td>freq0</td>\n",
       "    </tr>\n",
       "    <tr>\n",
       "      <th>4997</th>\n",
       "      <td>4998</td>\n",
       "      <td>age35~49</td>\n",
       "      <td>freq1</td>\n",
       "    </tr>\n",
       "    <tr>\n",
       "      <th>4998</th>\n",
       "      <td>4999</td>\n",
       "      <td>age50~</td>\n",
       "      <td>freq1</td>\n",
       "    </tr>\n",
       "    <tr>\n",
       "      <th>4999</th>\n",
       "      <td>5000</td>\n",
       "      <td>age20~34</td>\n",
       "      <td>freq0</td>\n",
       "    </tr>\n",
       "  </tbody>\n",
       "</table>\n",
       "<p>5000 rows × 3 columns</p>\n",
       "</div>"
      ],
      "text/plain": [
       "      customer_id   age_cat freq_cat\n",
       "0               1  age20~34    freq2\n",
       "1               2  age35~49    freq0\n",
       "2               3  age35~49    freq0\n",
       "3               4    age~19    freq0\n",
       "4               5  age35~49    freq0\n",
       "...           ...       ...      ...\n",
       "4995         4996    age50~    freq0\n",
       "4996         4997    age50~    freq0\n",
       "4997         4998  age35~49    freq1\n",
       "4998         4999    age50~    freq1\n",
       "4999         5000  age20~34    freq0\n",
       "\n",
       "[5000 rows x 3 columns]"
      ]
     },
     "execution_count": 2,
     "metadata": {},
     "output_type": "execute_result"
    }
   ],
   "source": [
    "customer_df = pd.read_csv(\"./data/customers.csv\")\n",
    "customer_df"
   ]
  },
  {
   "cell_type": "code",
   "execution_count": 16,
   "id": "0a174602-0bd1-43c6-82a2-b38d6d5053b2",
   "metadata": {},
   "outputs": [
    {
     "data": {
      "text/html": [
       "<div>\n",
       "<style scoped>\n",
       "    .dataframe tbody tr th:only-of-type {\n",
       "        vertical-align: middle;\n",
       "    }\n",
       "\n",
       "    .dataframe tbody tr th {\n",
       "        vertical-align: top;\n",
       "    }\n",
       "\n",
       "    .dataframe thead th {\n",
       "        text-align: right;\n",
       "    }\n",
       "</style>\n",
       "<table border=\"1\" class=\"dataframe\">\n",
       "  <thead>\n",
       "    <tr style=\"text-align: right;\">\n",
       "      <th></th>\n",
       "      <th>customer_id</th>\n",
       "      <th>age_cat</th>\n",
       "      <th>freq_cat</th>\n",
       "    </tr>\n",
       "  </thead>\n",
       "  <tbody>\n",
       "    <tr>\n",
       "      <th>count</th>\n",
       "      <td>5000.000000</td>\n",
       "      <td>5000</td>\n",
       "      <td>5000</td>\n",
       "    </tr>\n",
       "    <tr>\n",
       "      <th>unique</th>\n",
       "      <td>NaN</td>\n",
       "      <td>4</td>\n",
       "      <td>4</td>\n",
       "    </tr>\n",
       "    <tr>\n",
       "      <th>top</th>\n",
       "      <td>NaN</td>\n",
       "      <td>age35~49</td>\n",
       "      <td>freq0</td>\n",
       "    </tr>\n",
       "    <tr>\n",
       "      <th>freq</th>\n",
       "      <td>NaN</td>\n",
       "      <td>2000</td>\n",
       "      <td>2000</td>\n",
       "    </tr>\n",
       "    <tr>\n",
       "      <th>mean</th>\n",
       "      <td>2500.500000</td>\n",
       "      <td>NaN</td>\n",
       "      <td>NaN</td>\n",
       "    </tr>\n",
       "    <tr>\n",
       "      <th>std</th>\n",
       "      <td>1443.520003</td>\n",
       "      <td>NaN</td>\n",
       "      <td>NaN</td>\n",
       "    </tr>\n",
       "    <tr>\n",
       "      <th>min</th>\n",
       "      <td>1.000000</td>\n",
       "      <td>NaN</td>\n",
       "      <td>NaN</td>\n",
       "    </tr>\n",
       "    <tr>\n",
       "      <th>25%</th>\n",
       "      <td>1250.750000</td>\n",
       "      <td>NaN</td>\n",
       "      <td>NaN</td>\n",
       "    </tr>\n",
       "    <tr>\n",
       "      <th>50%</th>\n",
       "      <td>2500.500000</td>\n",
       "      <td>NaN</td>\n",
       "      <td>NaN</td>\n",
       "    </tr>\n",
       "    <tr>\n",
       "      <th>75%</th>\n",
       "      <td>3750.250000</td>\n",
       "      <td>NaN</td>\n",
       "      <td>NaN</td>\n",
       "    </tr>\n",
       "    <tr>\n",
       "      <th>max</th>\n",
       "      <td>5000.000000</td>\n",
       "      <td>NaN</td>\n",
       "      <td>NaN</td>\n",
       "    </tr>\n",
       "  </tbody>\n",
       "</table>\n",
       "</div>"
      ],
      "text/plain": [
       "        customer_id   age_cat freq_cat\n",
       "count   5000.000000      5000     5000\n",
       "unique          NaN         4        4\n",
       "top             NaN  age35~49    freq0\n",
       "freq            NaN      2000     2000\n",
       "mean    2500.500000       NaN      NaN\n",
       "std     1443.520003       NaN      NaN\n",
       "min        1.000000       NaN      NaN\n",
       "25%     1250.750000       NaN      NaN\n",
       "50%     2500.500000       NaN      NaN\n",
       "75%     3750.250000       NaN      NaN\n",
       "max     5000.000000       NaN      NaN"
      ]
     },
     "execution_count": 16,
     "metadata": {},
     "output_type": "execute_result"
    }
   ],
   "source": [
    "customer_df.describe(include= 'all' )"
   ]
  },
  {
   "cell_type": "code",
   "execution_count": 3,
   "id": "6817a996-dd42-486b-b4dc-9eff153cf3e8",
   "metadata": {},
   "outputs": [
    {
     "data": {
      "text/plain": [
       "customer_id     int64\n",
       "age_cat        object\n",
       "freq_cat       object\n",
       "dtype: object"
      ]
     },
     "execution_count": 3,
     "metadata": {},
     "output_type": "execute_result"
    }
   ],
   "source": [
    "customer_df.dtypes"
   ]
  },
  {
   "cell_type": "code",
   "execution_count": 9,
   "id": "85173776-81e1-41b8-8289-fc3326d1866e",
   "metadata": {},
   "outputs": [
    {
     "data": {
      "text/plain": [
       "array(['age20~34', 'age35~49', 'age~19', 'age50~'], dtype=object)"
      ]
     },
     "execution_count": 9,
     "metadata": {},
     "output_type": "execute_result"
    }
   ],
   "source": [
    "customer_df[\"age_cat\"].unique()"
   ]
  },
  {
   "cell_type": "code",
   "execution_count": 17,
   "id": "12feea28-7427-4c4d-8f74-bd64c6cc80b8",
   "metadata": {},
   "outputs": [
    {
     "data": {
      "text/plain": [
       "array(['freq2', 'freq0', 'freq1', 'freq3~'], dtype=object)"
      ]
     },
     "execution_count": 17,
     "metadata": {},
     "output_type": "execute_result"
    }
   ],
   "source": [
    "customer_df[\"freq_cat\"].unique()"
   ]
  },
  {
   "cell_type": "code",
   "execution_count": 10,
   "id": "9f95b236-ca42-42ed-b534-c8f8bb83358c",
   "metadata": {},
   "outputs": [
    {
     "data": {
      "image/png": "[encoded data removed]",
      "text/plain": [
       "<Figure size 640x480 with 1 Axes>"
      ]
     },
     "metadata": {},
     "output_type": "display_data"
    }
   ],
   "source": [
    "plt.hist(customer_df[\"age_cat\"])\n",
    "plt.xlabel(\"Age\")\n",
    "plt.ylabel(\"Counts\")\n",
    "plt.title(\"Age histogram\")\n",
    "plt.show()"
   ]
  },
  {
   "cell_type": "code",
   "execution_count": 12,
   "id": "d28e646f-20a8-4516-9e61-7d6aadfd0d86",
   "metadata": {},
   "outputs": [
    {
     "data": {
      "image/png": "[encoded data removed]",
      "text/plain": [
       "<Figure size 640x480 with 1 Axes>"
      ]
     },
     "metadata": {},
     "output_type": "display_data"
    }
   ],
   "source": [
    "plt.hist(customer_df[\"freq_cat\"].sort_values(ascending=True))\n",
    "plt.xlabel(\"Frequence\")\n",
    "plt.ylabel(\"Counts\")\n",
    "plt.title(\"Frequence histogram\")\n",
    "plt.show()"
   ]
  },
  {
   "cell_type": "code",
   "execution_count": 22,
   "id": "dc0623c5-bbe1-4564-ab30-bd1073a92309",
   "metadata": {},
   "outputs": [
    {
     "data": {
      "text/html": [
       "<div>\n",
       "<style scoped>\n",
       "    .dataframe tbody tr th:only-of-type {\n",
       "        vertical-align: middle;\n",
       "    }\n",
       "\n",
       "    .dataframe tbody tr th {\n",
       "        vertical-align: top;\n",
       "    }\n",
       "\n",
       "    .dataframe thead th {\n",
       "        text-align: right;\n",
       "    }\n",
       "</style>\n",
       "<table border=\"1\" class=\"dataframe\">\n",
       "  <thead>\n",
       "    <tr style=\"text-align: right;\">\n",
       "      <th>freq_cat</th>\n",
       "      <th>freq0</th>\n",
       "      <th>freq1</th>\n",
       "      <th>freq2</th>\n",
       "      <th>freq3~</th>\n",
       "    </tr>\n",
       "    <tr>\n",
       "      <th>age_cat</th>\n",
       "      <th></th>\n",
       "      <th></th>\n",
       "      <th></th>\n",
       "      <th></th>\n",
       "    </tr>\n",
       "  </thead>\n",
       "  <tbody>\n",
       "    <tr>\n",
       "      <th>age20~34</th>\n",
       "      <td>600</td>\n",
       "      <td>450</td>\n",
       "      <td>150</td>\n",
       "      <td>300</td>\n",
       "    </tr>\n",
       "    <tr>\n",
       "      <th>age35~49</th>\n",
       "      <td>800</td>\n",
       "      <td>600</td>\n",
       "      <td>200</td>\n",
       "      <td>400</td>\n",
       "    </tr>\n",
       "    <tr>\n",
       "      <th>age50~</th>\n",
       "      <td>400</td>\n",
       "      <td>300</td>\n",
       "      <td>100</td>\n",
       "      <td>200</td>\n",
       "    </tr>\n",
       "    <tr>\n",
       "      <th>age~19</th>\n",
       "      <td>200</td>\n",
       "      <td>150</td>\n",
       "      <td>50</td>\n",
       "      <td>100</td>\n",
       "    </tr>\n",
       "  </tbody>\n",
       "</table>\n",
       "</div>"
      ],
      "text/plain": [
       "freq_cat  freq0  freq1  freq2  freq3~\n",
       "age_cat                              \n",
       "age20~34    600    450    150     300\n",
       "age35~49    800    600    200     400\n",
       "age50~      400    300    100     200\n",
       "age~19      200    150     50     100"
      ]
     },
     "execution_count": 22,
     "metadata": {},
     "output_type": "execute_result"
    }
   ],
   "source": [
    "customer_pivot_df = pd.pivot_table(data=customer_df, values=\"customer_id\", columns=\"freq_cat\", index=\"age_cat\", aggfunc=\"count\")\n",
    "customer_pivot_df"
   ]
  },
  {
   "cell_type": "code",
   "execution_count": 23,
   "id": "7b69774d-1fda-442a-bb16-fe7ac9f18242",
   "metadata": {},
   "outputs": [
    {
     "data": {
      "text/html": [
       "<div>\n",
       "<style scoped>\n",
       "    .dataframe tbody tr th:only-of-type {\n",
       "        vertical-align: middle;\n",
       "    }\n",
       "\n",
       "    .dataframe tbody tr th {\n",
       "        vertical-align: top;\n",
       "    }\n",
       "\n",
       "    .dataframe thead th {\n",
       "        text-align: right;\n",
       "    }\n",
       "</style>\n",
       "<table border=\"1\" class=\"dataframe\">\n",
       "  <thead>\n",
       "    <tr style=\"text-align: right;\">\n",
       "      <th>freq_cat</th>\n",
       "      <th>freq0</th>\n",
       "      <th>freq1</th>\n",
       "      <th>freq2</th>\n",
       "      <th>freq3~</th>\n",
       "    </tr>\n",
       "    <tr>\n",
       "      <th>age_cat</th>\n",
       "      <th></th>\n",
       "      <th></th>\n",
       "      <th></th>\n",
       "      <th></th>\n",
       "    </tr>\n",
       "  </thead>\n",
       "  <tbody>\n",
       "    <tr>\n",
       "      <th>age~19</th>\n",
       "      <td>200</td>\n",
       "      <td>150</td>\n",
       "      <td>50</td>\n",
       "      <td>100</td>\n",
       "    </tr>\n",
       "    <tr>\n",
       "      <th>age20~34</th>\n",
       "      <td>600</td>\n",
       "      <td>450</td>\n",
       "      <td>150</td>\n",
       "      <td>300</td>\n",
       "    </tr>\n",
       "    <tr>\n",
       "      <th>age35~49</th>\n",
       "      <td>800</td>\n",
       "      <td>600</td>\n",
       "      <td>200</td>\n",
       "      <td>400</td>\n",
       "    </tr>\n",
       "    <tr>\n",
       "      <th>age50~</th>\n",
       "      <td>400</td>\n",
       "      <td>300</td>\n",
       "      <td>100</td>\n",
       "      <td>200</td>\n",
       "    </tr>\n",
       "  </tbody>\n",
       "</table>\n",
       "</div>"
      ],
      "text/plain": [
       "freq_cat  freq0  freq1  freq2  freq3~\n",
       "age_cat                              \n",
       "age~19      200    150     50     100\n",
       "age20~34    600    450    150     300\n",
       "age35~49    800    600    200     400\n",
       "age50~      400    300    100     200"
      ]
     },
     "execution_count": 23,
     "metadata": {},
     "output_type": "execute_result"
    }
   ],
   "source": [
    "customer_pivot_df = customer_pivot_df.reindex(['age~19', 'age20~34', 'age35~49', 'age50~'])\n",
    "customer_pivot_df"
   ]
  },
  {
   "cell_type": "code",
   "execution_count": 25,
   "id": "f1b1d414-8685-4f38-999e-db5d9e665e43",
   "metadata": {},
   "outputs": [
    {
     "data": {
      "image/png": "[encoded data removed]",
      "text/plain": [
       "<Figure size 640x480 with 2 Axes>"
      ]
     },
     "metadata": {},
     "output_type": "display_data"
    }
   ],
   "source": [
    "sns.heatmap(customer_pivot_df, annot=True, fmt=\"d\", cmap=\"Blues\");"
   ]
  },
  {
   "cell_type": "markdown",
   "id": "e6960b65-e89c-4758-ada7-15dd21ae6e04",
   "metadata": {},
   "source": [
    "#### 2-2. 来店確率"
   ]
  },
  {
   "cell_type": "code",
   "execution_count": 27,
   "id": "4d419349-c62d-476e-8531-7e55740726d7",
   "metadata": {},
   "outputs": [
    {
     "data": {
      "text/html": [
       "<div>\n",
       "<style scoped>\n",
       "    .dataframe tbody tr th:only-of-type {\n",
       "        vertical-align: middle;\n",
       "    }\n",
       "\n",
       "    .dataframe tbody tr th {\n",
       "        vertical-align: top;\n",
       "    }\n",
       "\n",
       "    .dataframe thead th {\n",
       "        text-align: right;\n",
       "    }\n",
       "</style>\n",
       "<table border=\"1\" class=\"dataframe\">\n",
       "  <thead>\n",
       "    <tr style=\"text-align: right;\">\n",
       "      <th></th>\n",
       "      <th>age_cat</th>\n",
       "      <th>freq_cat</th>\n",
       "      <th>segment_id</th>\n",
       "      <th>prob_dm1</th>\n",
       "      <th>prob_dm2</th>\n",
       "      <th>prob_dm3</th>\n",
       "    </tr>\n",
       "  </thead>\n",
       "  <tbody>\n",
       "    <tr>\n",
       "      <th>0</th>\n",
       "      <td>age~19</td>\n",
       "      <td>freq0</td>\n",
       "      <td>1</td>\n",
       "      <td>0.07</td>\n",
       "      <td>0.12</td>\n",
       "      <td>0.29</td>\n",
       "    </tr>\n",
       "    <tr>\n",
       "      <th>1</th>\n",
       "      <td>age~19</td>\n",
       "      <td>freq1</td>\n",
       "      <td>2</td>\n",
       "      <td>0.21</td>\n",
       "      <td>0.30</td>\n",
       "      <td>0.58</td>\n",
       "    </tr>\n",
       "    <tr>\n",
       "      <th>2</th>\n",
       "      <td>age~19</td>\n",
       "      <td>freq2</td>\n",
       "      <td>3</td>\n",
       "      <td>0.28</td>\n",
       "      <td>0.39</td>\n",
       "      <td>0.74</td>\n",
       "    </tr>\n",
       "    <tr>\n",
       "      <th>3</th>\n",
       "      <td>age~19</td>\n",
       "      <td>freq3~</td>\n",
       "      <td>4</td>\n",
       "      <td>0.35</td>\n",
       "      <td>0.45</td>\n",
       "      <td>0.77</td>\n",
       "    </tr>\n",
       "    <tr>\n",
       "      <th>4</th>\n",
       "      <td>age20~34</td>\n",
       "      <td>freq0</td>\n",
       "      <td>5</td>\n",
       "      <td>0.11</td>\n",
       "      <td>0.17</td>\n",
       "      <td>0.37</td>\n",
       "    </tr>\n",
       "    <tr>\n",
       "      <th>5</th>\n",
       "      <td>age20~34</td>\n",
       "      <td>freq1</td>\n",
       "      <td>6</td>\n",
       "      <td>0.32</td>\n",
       "      <td>0.43</td>\n",
       "      <td>0.72</td>\n",
       "    </tr>\n",
       "    <tr>\n",
       "      <th>6</th>\n",
       "      <td>age20~34</td>\n",
       "      <td>freq2</td>\n",
       "      <td>7</td>\n",
       "      <td>0.42</td>\n",
       "      <td>0.55</td>\n",
       "      <td>0.93</td>\n",
       "    </tr>\n",
       "    <tr>\n",
       "      <th>7</th>\n",
       "      <td>age20~34</td>\n",
       "      <td>freq3~</td>\n",
       "      <td>8</td>\n",
       "      <td>0.52</td>\n",
       "      <td>0.63</td>\n",
       "      <td>0.94</td>\n",
       "    </tr>\n",
       "    <tr>\n",
       "      <th>8</th>\n",
       "      <td>age35~49</td>\n",
       "      <td>freq0</td>\n",
       "      <td>9</td>\n",
       "      <td>0.08</td>\n",
       "      <td>0.14</td>\n",
       "      <td>0.33</td>\n",
       "    </tr>\n",
       "    <tr>\n",
       "      <th>9</th>\n",
       "      <td>age35~49</td>\n",
       "      <td>freq1</td>\n",
       "      <td>10</td>\n",
       "      <td>0.25</td>\n",
       "      <td>0.35</td>\n",
       "      <td>0.67</td>\n",
       "    </tr>\n",
       "    <tr>\n",
       "      <th>10</th>\n",
       "      <td>age35~49</td>\n",
       "      <td>freq2</td>\n",
       "      <td>11</td>\n",
       "      <td>0.34</td>\n",
       "      <td>0.45</td>\n",
       "      <td>0.86</td>\n",
       "    </tr>\n",
       "    <tr>\n",
       "      <th>11</th>\n",
       "      <td>age35~49</td>\n",
       "      <td>freq3~</td>\n",
       "      <td>12</td>\n",
       "      <td>0.42</td>\n",
       "      <td>0.52</td>\n",
       "      <td>0.89</td>\n",
       "    </tr>\n",
       "    <tr>\n",
       "      <th>12</th>\n",
       "      <td>age50~</td>\n",
       "      <td>freq0</td>\n",
       "      <td>13</td>\n",
       "      <td>0.07</td>\n",
       "      <td>0.13</td>\n",
       "      <td>0.32</td>\n",
       "    </tr>\n",
       "    <tr>\n",
       "      <th>13</th>\n",
       "      <td>age50~</td>\n",
       "      <td>freq1</td>\n",
       "      <td>14</td>\n",
       "      <td>0.21</td>\n",
       "      <td>0.33</td>\n",
       "      <td>0.65</td>\n",
       "    </tr>\n",
       "    <tr>\n",
       "      <th>14</th>\n",
       "      <td>age50~</td>\n",
       "      <td>freq2</td>\n",
       "      <td>15</td>\n",
       "      <td>0.28</td>\n",
       "      <td>0.42</td>\n",
       "      <td>0.84</td>\n",
       "    </tr>\n",
       "    <tr>\n",
       "      <th>15</th>\n",
       "      <td>age50~</td>\n",
       "      <td>freq3~</td>\n",
       "      <td>16</td>\n",
       "      <td>0.35</td>\n",
       "      <td>0.49</td>\n",
       "      <td>0.88</td>\n",
       "    </tr>\n",
       "  </tbody>\n",
       "</table>\n",
       "</div>"
      ],
      "text/plain": [
       "     age_cat freq_cat  segment_id  prob_dm1  prob_dm2  prob_dm3\n",
       "0     age~19    freq0           1      0.07      0.12      0.29\n",
       "1     age~19    freq1           2      0.21      0.30      0.58\n",
       "2     age~19    freq2           3      0.28      0.39      0.74\n",
       "3     age~19   freq3~           4      0.35      0.45      0.77\n",
       "4   age20~34    freq0           5      0.11      0.17      0.37\n",
       "5   age20~34    freq1           6      0.32      0.43      0.72\n",
       "6   age20~34    freq2           7      0.42      0.55      0.93\n",
       "7   age20~34   freq3~           8      0.52      0.63      0.94\n",
       "8   age35~49    freq0           9      0.08      0.14      0.33\n",
       "9   age35~49    freq1          10      0.25      0.35      0.67\n",
       "10  age35~49    freq2          11      0.34      0.45      0.86\n",
       "11  age35~49   freq3~          12      0.42      0.52      0.89\n",
       "12    age50~    freq0          13      0.07      0.13      0.32\n",
       "13    age50~    freq1          14      0.21      0.33      0.65\n",
       "14    age50~    freq2          15      0.28      0.42      0.84\n",
       "15    age50~   freq3~          16      0.35      0.49      0.88"
      ]
     },
     "execution_count": 27,
     "metadata": {},
     "output_type": "execute_result"
    }
   ],
   "source": [
    "visit_probability_df = pd.read_csv(\"./data/visit_probability.csv\")\n",
    "visit_probability_df"
   ]
  },
  {
   "cell_type": "code",
   "execution_count": 28,
   "id": "0d7748c7-e72f-447d-9dfd-a652cac7d423",
   "metadata": {},
   "outputs": [
    {
     "data": {
      "text/plain": [
       "(16, 6)"
      ]
     },
     "execution_count": 28,
     "metadata": {},
     "output_type": "execute_result"
    }
   ],
   "source": [
    "visit_probability_df.shape"
   ]
  },
  {
   "cell_type": "code",
   "execution_count": 29,
   "id": "4ed60789-1ce8-45da-8ee0-045b3ee80e90",
   "metadata": {},
   "outputs": [
    {
     "data": {
      "text/html": [
       "<div>\n",
       "<style scoped>\n",
       "    .dataframe tbody tr th:only-of-type {\n",
       "        vertical-align: middle;\n",
       "    }\n",
       "\n",
       "    .dataframe tbody tr th {\n",
       "        vertical-align: top;\n",
       "    }\n",
       "\n",
       "    .dataframe thead th {\n",
       "        text-align: right;\n",
       "    }\n",
       "</style>\n",
       "<table border=\"1\" class=\"dataframe\">\n",
       "  <thead>\n",
       "    <tr style=\"text-align: right;\">\n",
       "      <th></th>\n",
       "      <th>age_cat</th>\n",
       "      <th>freq_cat</th>\n",
       "      <th>segment_id</th>\n",
       "      <th>prob_dm1</th>\n",
       "      <th>prob_dm2</th>\n",
       "      <th>prob_dm3</th>\n",
       "    </tr>\n",
       "  </thead>\n",
       "  <tbody>\n",
       "    <tr>\n",
       "      <th>count</th>\n",
       "      <td>16</td>\n",
       "      <td>16</td>\n",
       "      <td>16.000000</td>\n",
       "      <td>16.000000</td>\n",
       "      <td>16.000000</td>\n",
       "      <td>16.000000</td>\n",
       "    </tr>\n",
       "    <tr>\n",
       "      <th>unique</th>\n",
       "      <td>4</td>\n",
       "      <td>4</td>\n",
       "      <td>NaN</td>\n",
       "      <td>NaN</td>\n",
       "      <td>NaN</td>\n",
       "      <td>NaN</td>\n",
       "    </tr>\n",
       "    <tr>\n",
       "      <th>top</th>\n",
       "      <td>age20~34</td>\n",
       "      <td>freq0</td>\n",
       "      <td>NaN</td>\n",
       "      <td>NaN</td>\n",
       "      <td>NaN</td>\n",
       "      <td>NaN</td>\n",
       "    </tr>\n",
       "    <tr>\n",
       "      <th>freq</th>\n",
       "      <td>4</td>\n",
       "      <td>4</td>\n",
       "      <td>NaN</td>\n",
       "      <td>NaN</td>\n",
       "      <td>NaN</td>\n",
       "      <td>NaN</td>\n",
       "    </tr>\n",
       "    <tr>\n",
       "      <th>mean</th>\n",
       "      <td>NaN</td>\n",
       "      <td>NaN</td>\n",
       "      <td>8.500000</td>\n",
       "      <td>0.267500</td>\n",
       "      <td>0.366875</td>\n",
       "      <td>0.673750</td>\n",
       "    </tr>\n",
       "    <tr>\n",
       "      <th>std</th>\n",
       "      <td>NaN</td>\n",
       "      <td>NaN</td>\n",
       "      <td>4.760952</td>\n",
       "      <td>0.135917</td>\n",
       "      <td>0.158313</td>\n",
       "      <td>0.230387</td>\n",
       "    </tr>\n",
       "    <tr>\n",
       "      <th>min</th>\n",
       "      <td>NaN</td>\n",
       "      <td>NaN</td>\n",
       "      <td>1.000000</td>\n",
       "      <td>0.070000</td>\n",
       "      <td>0.120000</td>\n",
       "      <td>0.290000</td>\n",
       "    </tr>\n",
       "    <tr>\n",
       "      <th>25%</th>\n",
       "      <td>NaN</td>\n",
       "      <td>NaN</td>\n",
       "      <td>4.750000</td>\n",
       "      <td>0.185000</td>\n",
       "      <td>0.267500</td>\n",
       "      <td>0.527500</td>\n",
       "    </tr>\n",
       "    <tr>\n",
       "      <th>50%</th>\n",
       "      <td>NaN</td>\n",
       "      <td>NaN</td>\n",
       "      <td>8.500000</td>\n",
       "      <td>0.280000</td>\n",
       "      <td>0.405000</td>\n",
       "      <td>0.730000</td>\n",
       "    </tr>\n",
       "    <tr>\n",
       "      <th>75%</th>\n",
       "      <td>NaN</td>\n",
       "      <td>NaN</td>\n",
       "      <td>12.250000</td>\n",
       "      <td>0.350000</td>\n",
       "      <td>0.460000</td>\n",
       "      <td>0.865000</td>\n",
       "    </tr>\n",
       "    <tr>\n",
       "      <th>max</th>\n",
       "      <td>NaN</td>\n",
       "      <td>NaN</td>\n",
       "      <td>16.000000</td>\n",
       "      <td>0.520000</td>\n",
       "      <td>0.630000</td>\n",
       "      <td>0.940000</td>\n",
       "    </tr>\n",
       "  </tbody>\n",
       "</table>\n",
       "</div>"
      ],
      "text/plain": [
       "         age_cat freq_cat  segment_id   prob_dm1   prob_dm2   prob_dm3\n",
       "count         16       16   16.000000  16.000000  16.000000  16.000000\n",
       "unique         4        4         NaN        NaN        NaN        NaN\n",
       "top     age20~34    freq0         NaN        NaN        NaN        NaN\n",
       "freq           4        4         NaN        NaN        NaN        NaN\n",
       "mean         NaN      NaN    8.500000   0.267500   0.366875   0.673750\n",
       "std          NaN      NaN    4.760952   0.135917   0.158313   0.230387\n",
       "min          NaN      NaN    1.000000   0.070000   0.120000   0.290000\n",
       "25%          NaN      NaN    4.750000   0.185000   0.267500   0.527500\n",
       "50%          NaN      NaN    8.500000   0.280000   0.405000   0.730000\n",
       "75%          NaN      NaN   12.250000   0.350000   0.460000   0.865000\n",
       "max          NaN      NaN   16.000000   0.520000   0.630000   0.940000"
      ]
     },
     "execution_count": 29,
     "metadata": {},
     "output_type": "execute_result"
    }
   ],
   "source": [
    "visit_probability_df.describe(include=\"all\")"
   ]
  },
  {
   "cell_type": "code",
   "execution_count": 31,
   "id": "13ea60d9-20bf-45ef-acb7-72e85835aa8d",
   "metadata": {},
   "outputs": [
    {
     "data": {
      "text/plain": [
       "Index(['age_cat', 'freq_cat', 'segment_id', 'prob_dm1', 'prob_dm2',\n",
       "       'prob_dm3'],\n",
       "      dtype='object')"
      ]
     },
     "execution_count": 31,
     "metadata": {},
     "output_type": "execute_result"
    }
   ],
   "source": [
    "visit_probability_df.columns"
   ]
  },
  {
   "cell_type": "code",
   "execution_count": 59,
   "id": "6a043b0e-eeee-48cb-baeb-62c62a4dbfd2",
   "metadata": {},
   "outputs": [
    {
     "data": {
      "image/png": "[encoded data removed]",
      "text/plain": [
       "<Figure size 2000x300 with 6 Axes>"
      ]
     },
     "metadata": {},
     "output_type": "display_data"
    }
   ],
   "source": [
    "fig,ax = plt.subplots(1,3, figsize=(20,3))\n",
    "for i, p in enumerate(['prob_dm1', 'prob_dm2', 'prob_dm3']):\n",
    "    probability_pivot_df = pd.pivot_table(data=visit_probability_df, values=p, columns=\"freq_cat\", index=\"age_cat\")\n",
    "    probability_pivot_df = probability_pivot_df.reindex(['age~19', 'age20~34', 'age35~49', 'age50~'])\n",
    "    sns.heatmap(probability_pivot_df, annot=True, fmt=\".0%\", cmap=\"Blues\", ax=ax[i])\n",
    "    ax[i].set_title(f\"Visit Probability of {p}\")"
   ]
  },
  {
   "cell_type": "code",
   "execution_count": null,
   "id": "24a80e5b-db5f-43b3-b821-b06e23ea5ca2",
   "metadata": {},
   "outputs": [],
   "source": []
  }
 ],
 "metadata": {
  "kernelspec": {
   "display_name": "Python 3 (ipykernel)",
   "language": "python",
   "name": "python3"
  },
  "language_info": {
   "codemirror_mode": {
    "name": "ipython",
    "version": 3
   },
   "file_extension": ".py",
   "mimetype": "text/x-python",
   "name": "python",
   "nbconvert_exporter": "python",
   "pygments_lexer": "ipython3",
   "version": "3.8.18"
  }
 },
 "nbformat": 4,
 "nbformat_minor": 5
}
